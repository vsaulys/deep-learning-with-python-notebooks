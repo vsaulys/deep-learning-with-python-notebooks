{
 "cells": [
  {
   "cell_type": "code",
   "execution_count": 1,
   "metadata": {},
   "outputs": [
    {
     "name": "stderr",
     "output_type": "stream",
     "text": [
      "Using TensorFlow backend.\n"
     ]
    },
    {
     "data": {
      "text/plain": [
       "'2.2.4'"
      ]
     },
     "execution_count": 1,
     "metadata": {},
     "output_type": "execute_result"
    }
   ],
   "source": [
    "import keras\n",
    "keras.__version__"
   ]
  },
  {
   "cell_type": "markdown",
   "metadata": {},
   "source": [
    "# Introduction to generative adversarial networks\n",
    "\n",
    "This notebook contains the second code sample found in Chapter 8, Section 5 of [Deep Learning with Python](https://www.manning.com/books/deep-learning-with-python?a_aid=keras&a_bid=76564dff). Note that the original text features far more content, in particular further explanations and figures: in this notebook, you will only find source code and related comments.\n",
    "\n",
    "---\n",
    "[...]"
   ]
  },
  {
   "cell_type": "markdown",
   "metadata": {},
   "source": [
    "## A schematic GAN implementation\n",
    "\n",
    "\n",
    "In what follows, we explain how to implement a GAN in Keras, in its barest form -- since GANs are quite advanced, diving deeply into the \n",
    "technical details would be out of scope for us. Our specific implementation will be a deep convolutional GAN, or DCGAN: a GAN where the \n",
    "generator and discriminator are deep convnets. In particular, it leverages a `Conv2DTranspose` layer for image upsampling in the generator.\n",
    "\n",
    "We will train our GAN on images from CIFAR10, a dataset of 50,000 32x32 RGB images belong to 10 classes (5,000 images per class). To make \n",
    "things even easier, we will only use images belonging to the class \"frog\".\n",
    "\n",
    "Schematically, our GAN looks like this:\n",
    "\n",
    "* A `generator` network maps vectors of shape `(latent_dim,)` to images of shape `(32, 32, 3)`.\n",
    "* A `discriminator` network maps images of shape (32, 32, 3) to a binary score estimating the probability that the image is real.\n",
    "* A `gan` network chains the generator and the discriminator together: `gan(x) = discriminator(generator(x))`. Thus this `gan` network maps \n",
    "latent space vectors to the discriminator's assessment of the realism of these latent vectors as decoded by the generator.\n",
    "* We train the discriminator using examples of real and fake images along with \"real\"/\"fake\" labels, as we would train any regular image \n",
    "classification model.\n",
    "* To train the generator, we use the gradients of the generator's weights with regard to the loss of the `gan` model. This means that, at \n",
    "every step, we move the weights of the generator in a direction that will make the discriminator more likely to classify as \"real\" the \n",
    "images decoded by the generator. I.e. we train the generator to fool the discriminator."
   ]
  },
  {
   "cell_type": "markdown",
   "metadata": {},
   "source": [
    "## A bag of tricks\n",
    "\n",
    "\n",
    "Training GANs and tuning GAN implementations is notoriously difficult. There are a number of known \"tricks\" that one should keep in mind. \n",
    "Like most things in deep learning, it is more alchemy than science: these tricks are really just heuristics, not theory-backed guidelines. \n",
    "They are backed by some level of intuitive understanding of the phenomenon at hand, and they are known to work well empirically, albeit not \n",
    "necessarily in every context.\n",
    "\n",
    "Here are a few of the tricks that we leverage in our own implementation of a GAN generator and discriminator below. It is not an exhaustive \n",
    "list of GAN-related tricks; you will find many more across the GAN literature.\n",
    "\n",
    "* We use `tanh` as the last activation in the generator, instead of `sigmoid`, which would be more commonly found in other types of models.\n",
    "* We sample points from the latent space using a _normal distribution_ (Gaussian distribution), not a uniform distribution.\n",
    "* Stochasticity is good to induce robustness. Since GAN training results in a dynamic equilibrium, GANs are likely to get \"stuck\" in all sorts of ways. \n",
    "Introducing randomness during training helps prevent this. We introduce randomness in two ways: 1) we use dropout in the discriminator, 2) \n",
    "we add some random noise to the labels for the discriminator.\n",
    "* Sparse gradients can hinder GAN training. In deep learning, sparsity is often a desirable property, but not in GANs. There are two things \n",
    "that can induce gradient sparsity: 1) max pooling operations, 2) ReLU activations. Instead of max pooling, we recommend using strided \n",
    "convolutions for downsampling, and we recommend using a `LeakyReLU` layer instead of a ReLU activation. It is similar to ReLU but it \n",
    "relaxes sparsity constraints by allowing small negative activation values.\n",
    "* In generated images, it is common to see \"checkerboard artifacts\" caused by unequal coverage of the pixel space in the generator. To fix \n",
    "this, we use a kernel size that is divisible by the stride size, whenever we use a strided `Conv2DTranpose` or `Conv2D` in both the \n",
    "generator and discriminator."
   ]
  },
  {
   "cell_type": "markdown",
   "metadata": {},
   "source": [
    "## The generator\n",
    "\n",
    "\n",
    "First, we develop a `generator` model, which turns a vector (from the latent space -- during training it will sampled at random) into a \n",
    "candidate image. One of the many issues that commonly arise with GANs is that the generator gets stuck with generated images that look like \n",
    "noise. A possible solution is to use dropout on both the discriminator and generator."
   ]
  },
  {
   "cell_type": "code",
   "execution_count": 2,
   "metadata": {},
   "outputs": [
    {
     "name": "stdout",
     "output_type": "stream",
     "text": [
      "_________________________________________________________________\n",
      "Layer (type)                 Output Shape              Param #   \n",
      "=================================================================\n",
      "input_1 (InputLayer)         (None, 32)                0         \n",
      "_________________________________________________________________\n",
      "dense_1 (Dense)              (None, 32768)             1081344   \n",
      "_________________________________________________________________\n",
      "leaky_re_lu_1 (LeakyReLU)    (None, 32768)             0         \n",
      "_________________________________________________________________\n",
      "reshape_1 (Reshape)          (None, 16, 16, 128)       0         \n",
      "_________________________________________________________________\n",
      "conv2d_1 (Conv2D)            (None, 16, 16, 256)       819456    \n",
      "_________________________________________________________________\n",
      "leaky_re_lu_2 (LeakyReLU)    (None, 16, 16, 256)       0         \n",
      "_________________________________________________________________\n",
      "conv2d_transpose_1 (Conv2DTr (None, 32, 32, 256)       1048832   \n",
      "_________________________________________________________________\n",
      "leaky_re_lu_3 (LeakyReLU)    (None, 32, 32, 256)       0         \n",
      "_________________________________________________________________\n",
      "conv2d_2 (Conv2D)            (None, 32, 32, 256)       1638656   \n",
      "_________________________________________________________________\n",
      "leaky_re_lu_4 (LeakyReLU)    (None, 32, 32, 256)       0         \n",
      "_________________________________________________________________\n",
      "conv2d_3 (Conv2D)            (None, 32, 32, 256)       1638656   \n",
      "_________________________________________________________________\n",
      "leaky_re_lu_5 (LeakyReLU)    (None, 32, 32, 256)       0         \n",
      "_________________________________________________________________\n",
      "conv2d_4 (Conv2D)            (None, 32, 32, 3)         37635     \n",
      "=================================================================\n",
      "Total params: 6,264,579\n",
      "Trainable params: 6,264,579\n",
      "Non-trainable params: 0\n",
      "_________________________________________________________________\n"
     ]
    }
   ],
   "source": [
    "import keras\n",
    "from keras import layers\n",
    "import numpy as np\n",
    "\n",
    "latent_dim = 32\n",
    "height = 32\n",
    "width = 32\n",
    "channels = 3\n",
    "\n",
    "generator_input = keras.Input(shape=(latent_dim,))\n",
    "\n",
    "# First, transform the input into a 16x16 128-channels feature map\n",
    "x = layers.Dense(128 * 16 * 16)(generator_input)\n",
    "x = layers.LeakyReLU()(x)\n",
    "x = layers.Reshape((16, 16, 128))(x)\n",
    "\n",
    "# Then, add a convolution layer\n",
    "x = layers.Conv2D(256, 5, padding='same')(x)\n",
    "x = layers.LeakyReLU()(x)\n",
    "\n",
    "# Upsample to 32x32\n",
    "x = layers.Conv2DTranspose(256, 4, strides=2, padding='same')(x)\n",
    "x = layers.LeakyReLU()(x)\n",
    "\n",
    "# Few more conv layers\n",
    "x = layers.Conv2D(256, 5, padding='same')(x)\n",
    "x = layers.LeakyReLU()(x)\n",
    "x = layers.Conv2D(256, 5, padding='same')(x)\n",
    "x = layers.LeakyReLU()(x)\n",
    "\n",
    "# Produce a 32x32 1-channel feature map\n",
    "x = layers.Conv2D(channels, 7, activation='tanh', padding='same')(x)\n",
    "generator = keras.models.Model(generator_input, x)\n",
    "generator.summary()"
   ]
  },
  {
   "cell_type": "markdown",
   "metadata": {},
   "source": [
    "## The discriminator\n",
    "\n",
    "\n",
    "Then, we develop a `discriminator` model, that takes as input a candidate image (real or synthetic) and classifies it into one of two \n",
    "classes, either \"generated image\" or \"real image that comes from the training set\"."
   ]
  },
  {
   "cell_type": "code",
   "execution_count": 3,
   "metadata": {},
   "outputs": [
    {
     "name": "stdout",
     "output_type": "stream",
     "text": [
      "_________________________________________________________________\n",
      "Layer (type)                 Output Shape              Param #   \n",
      "=================================================================\n",
      "input_2 (InputLayer)         (None, 32, 32, 3)         0         \n",
      "_________________________________________________________________\n",
      "conv2d_5 (Conv2D)            (None, 30, 30, 128)       3584      \n",
      "_________________________________________________________________\n",
      "leaky_re_lu_6 (LeakyReLU)    (None, 30, 30, 128)       0         \n",
      "_________________________________________________________________\n",
      "conv2d_6 (Conv2D)            (None, 14, 14, 128)       262272    \n",
      "_________________________________________________________________\n",
      "leaky_re_lu_7 (LeakyReLU)    (None, 14, 14, 128)       0         \n",
      "_________________________________________________________________\n",
      "conv2d_7 (Conv2D)            (None, 6, 6, 128)         262272    \n",
      "_________________________________________________________________\n",
      "leaky_re_lu_8 (LeakyReLU)    (None, 6, 6, 128)         0         \n",
      "_________________________________________________________________\n",
      "conv2d_8 (Conv2D)            (None, 2, 2, 128)         262272    \n",
      "_________________________________________________________________\n",
      "leaky_re_lu_9 (LeakyReLU)    (None, 2, 2, 128)         0         \n",
      "_________________________________________________________________\n",
      "flatten_1 (Flatten)          (None, 512)               0         \n",
      "_________________________________________________________________\n",
      "dropout_1 (Dropout)          (None, 512)               0         \n",
      "_________________________________________________________________\n",
      "dense_2 (Dense)              (None, 1)                 513       \n",
      "=================================================================\n",
      "Total params: 790,913\n",
      "Trainable params: 790,913\n",
      "Non-trainable params: 0\n",
      "_________________________________________________________________\n"
     ]
    }
   ],
   "source": [
    "discriminator_input = layers.Input(shape=(height, width, channels))\n",
    "x = layers.Conv2D(128, 3)(discriminator_input)\n",
    "x = layers.LeakyReLU()(x)\n",
    "x = layers.Conv2D(128, 4, strides=2)(x)\n",
    "x = layers.LeakyReLU()(x)\n",
    "x = layers.Conv2D(128, 4, strides=2)(x)\n",
    "x = layers.LeakyReLU()(x)\n",
    "x = layers.Conv2D(128, 4, strides=2)(x)\n",
    "x = layers.LeakyReLU()(x)\n",
    "x = layers.Flatten()(x)\n",
    "\n",
    "# One dropout layer - important trick!\n",
    "x = layers.Dropout(0.4)(x)\n",
    "\n",
    "# Classification layer\n",
    "x = layers.Dense(1, activation='sigmoid')(x)\n",
    "\n",
    "discriminator = keras.models.Model(discriminator_input, x)\n",
    "discriminator.summary()\n",
    "\n",
    "# To stabilize training, we use learning rate decay\n",
    "# and gradient clipping (by value) in the optimizer.\n",
    "discriminator_optimizer = keras.optimizers.RMSprop(lr=0.0008, clipvalue=1.0, decay=1e-8)\n",
    "discriminator.compile(optimizer=discriminator_optimizer, loss='binary_crossentropy')"
   ]
  },
  {
   "cell_type": "markdown",
   "metadata": {},
   "source": [
    "## The adversarial network\n",
    "\n",
    "Finally, we setup the GAN, which chains the generator and the discriminator. This is the model that, when trained, will move the generator \n",
    "in a direction that improves its ability to fool the discriminator. This model turns latent space points into a classification decision, \n",
    "\"fake\" or \"real\", and it is meant to be trained with labels that are always \"these are real images\". So training `gan` will updates the \n",
    "weights of `generator` in a way that makes `discriminator` more likely to predict \"real\" when looking at fake images. Very importantly, we \n",
    "set the discriminator to be frozen during training (non-trainable): its weights will not be updated when training `gan`. If the \n",
    "discriminator weights could be updated during this process, then we would be training the discriminator to always predict \"real\", which is \n",
    "not what we want!"
   ]
  },
  {
   "cell_type": "code",
   "execution_count": 4,
   "metadata": {},
   "outputs": [],
   "source": [
    "# Set discriminator weights to non-trainable\n",
    "# (will only apply to the `gan` model)\n",
    "discriminator.trainable = False\n",
    "\n",
    "gan_input = keras.Input(shape=(latent_dim,))\n",
    "gan_output = discriminator(generator(gan_input))\n",
    "gan = keras.models.Model(gan_input, gan_output)\n",
    "\n",
    "gan_optimizer = keras.optimizers.RMSprop(lr=0.0004, clipvalue=1.0, decay=1e-8)\n",
    "gan.compile(optimizer=gan_optimizer, loss='binary_crossentropy')"
   ]
  },
  {
   "cell_type": "markdown",
   "metadata": {},
   "source": [
    "## How to train your DCGAN\n",
    "\n",
    "Now we can start training. To recapitulate, this is schematically what the training loop looks like:\n",
    "\n",
    "```\n",
    "for each epoch:\n",
    "    * Draw random points in the latent space (random noise).\n",
    "    * Generate images with `generator` using this random noise.\n",
    "    * Mix the generated images with real ones.\n",
    "    * Train `discriminator` using these mixed images, with corresponding targets, either \"real\" (for the real images) or \"fake\" (for the generated images).\n",
    "    * Draw new random points in the latent space.\n",
    "    * Train `gan` using these random vectors, with targets that all say \"these are real images\". This will update the weights of the generator (only, since discriminator is frozen inside `gan`) to move them towards getting the discriminator to predict \"these are real images\" for generated images, i.e. this trains the generator to fool the discriminator.\n",
    "```\n",
    "\n",
    "Let's implement it:"
   ]
  },
  {
   "cell_type": "code",
   "execution_count": 9,
   "metadata": {},
   "outputs": [
    {
     "name": "stdout",
     "output_type": "stream",
     "text": [
      "discriminator loss at step 0: 3.6247184\n",
      "adversarial loss at step 0: 4.0448294\n",
      "discriminator loss at step 100: 0.09286009\n",
      "adversarial loss at step 100: 1.5798485\n",
      "discriminator loss at step 200: -0.14371215\n",
      "adversarial loss at step 200: 15.907727\n",
      "discriminator loss at step 300: 0.04940362\n",
      "adversarial loss at step 300: 0.10813854\n",
      "discriminator loss at step 400: -0.124318406\n",
      "adversarial loss at step 400: 15.942385\n",
      "discriminator loss at step 500: -0.13625005\n",
      "adversarial loss at step 500: 15.942385\n",
      "discriminator loss at step 600: -0.13027875\n",
      "adversarial loss at step 600: 15.942385\n",
      "discriminator loss at step 700: -0.09792973\n",
      "adversarial loss at step 700: 15.942385\n",
      "discriminator loss at step 800: -0.12307811\n",
      "adversarial loss at step 800: 15.942385\n",
      "discriminator loss at step 900: -0.14349179\n",
      "adversarial loss at step 900: 15.942385\n",
      "discriminator loss at step 1000: -0.16027792\n",
      "adversarial loss at step 1000: 15.942385\n",
      "discriminator loss at step 1100: -0.1596779\n",
      "adversarial loss at step 1100: 15.942385\n",
      "discriminator loss at step 1200: -0.16180646\n",
      "adversarial loss at step 1200: 15.942385\n",
      "discriminator loss at step 1300: -0.10046955\n",
      "adversarial loss at step 1300: 15.373303\n",
      "discriminator loss at step 1400: -0.20039794\n",
      "adversarial loss at step 1400: 15.942385\n",
      "discriminator loss at step 1500: -0.15310307\n",
      "adversarial loss at step 1500: 15.942385\n",
      "discriminator loss at step 1600: -0.15815052\n",
      "adversarial loss at step 1600: 15.942385\n",
      "discriminator loss at step 1700: -0.14578459\n",
      "adversarial loss at step 1700: 15.942385\n",
      "discriminator loss at step 1800: -0.117889024\n",
      "adversarial loss at step 1800: 15.33695\n",
      "discriminator loss at step 1900: -0.13999563\n",
      "adversarial loss at step 1900: 15.942385\n",
      "discriminator loss at step 2000: -0.2045043\n",
      "adversarial loss at step 2000: 15.942385\n",
      "discriminator loss at step 2100: -0.13951325\n",
      "adversarial loss at step 2100: 15.349516\n",
      "discriminator loss at step 2200: -0.118641116\n",
      "adversarial loss at step 2200: 15.942385\n",
      "discriminator loss at step 2300: -0.10929551\n",
      "adversarial loss at step 2300: 15.942385\n",
      "discriminator loss at step 2400: -0.06637062\n",
      "adversarial loss at step 2400: 15.942385\n",
      "discriminator loss at step 2500: -0.14345914\n",
      "adversarial loss at step 2500: 15.942385\n",
      "discriminator loss at step 2600: -0.16465548\n",
      "adversarial loss at step 2600: 15.942385\n",
      "discriminator loss at step 2700: -0.17626964\n",
      "adversarial loss at step 2700: 15.942385\n",
      "discriminator loss at step 2800: 0.0074033616\n",
      "adversarial loss at step 2800: 0.51093453\n",
      "discriminator loss at step 2900: -0.1502671\n",
      "adversarial loss at step 2900: 15.907727\n",
      "discriminator loss at step 3000: -0.10850482\n",
      "adversarial loss at step 3000: 15.942385\n",
      "discriminator loss at step 3100: -0.13305804\n",
      "adversarial loss at step 3100: 15.942385\n",
      "discriminator loss at step 3200: -0.1493673\n",
      "adversarial loss at step 3200: 15.942385\n",
      "discriminator loss at step 3300: -0.07770373\n",
      "adversarial loss at step 3300: 15.942385\n",
      "discriminator loss at step 3400: -0.11483537\n",
      "adversarial loss at step 3400: 15.942385\n",
      "discriminator loss at step 3500: -0.14369881\n",
      "adversarial loss at step 3500: 15.942385\n",
      "discriminator loss at step 3600: -0.14679098\n",
      "adversarial loss at step 3600: 15.942385\n",
      "discriminator loss at step 3700: -0.1358177\n",
      "adversarial loss at step 3700: 15.838412\n",
      "discriminator loss at step 3800: -0.13281879\n",
      "adversarial loss at step 3800: 15.942385\n",
      "discriminator loss at step 3900: -0.12655148\n",
      "adversarial loss at step 3900: 15.942385\n",
      "discriminator loss at step 4000: -0.09659969\n",
      "adversarial loss at step 4000: 15.942385\n",
      "discriminator loss at step 4100: -0.15632041\n",
      "adversarial loss at step 4100: 15.942385\n",
      "discriminator loss at step 4200: -0.11499117\n",
      "adversarial loss at step 4200: 15.942385\n",
      "discriminator loss at step 4300: -0.10149135\n",
      "adversarial loss at step 4300: 9.628981\n",
      "discriminator loss at step 4400: -0.120267734\n",
      "adversarial loss at step 4400: 15.942385\n",
      "discriminator loss at step 4500: -0.15052798\n",
      "adversarial loss at step 4500: 15.942385\n",
      "discriminator loss at step 4600: -0.14211804\n",
      "adversarial loss at step 4600: 15.942385\n",
      "discriminator loss at step 4700: -0.086400524\n",
      "adversarial loss at step 4700: 15.942385\n",
      "discriminator loss at step 4800: -0.13847111\n",
      "adversarial loss at step 4800: 15.942385\n",
      "discriminator loss at step 4900: -0.1265105\n",
      "adversarial loss at step 4900: 15.942385\n",
      "discriminator loss at step 5000: -0.09762276\n",
      "adversarial loss at step 5000: 15.942385\n",
      "discriminator loss at step 5100: -0.14291117\n",
      "adversarial loss at step 5100: 15.942385\n",
      "discriminator loss at step 5200: -0.13828982\n",
      "adversarial loss at step 5200: 15.942385\n",
      "discriminator loss at step 5300: -0.12853703\n",
      "adversarial loss at step 5300: 15.068187\n",
      "discriminator loss at step 5400: -0.16641143\n",
      "adversarial loss at step 5400: 15.942385\n",
      "discriminator loss at step 5500: -0.12512816\n",
      "adversarial loss at step 5500: 15.942385\n",
      "discriminator loss at step 5600: -0.15772963\n",
      "adversarial loss at step 5600: 15.942385\n",
      "discriminator loss at step 5700: -0.118043326\n",
      "adversarial loss at step 5700: 15.942385\n",
      "discriminator loss at step 5800: -0.08842801\n",
      "adversarial loss at step 5800: 15.942385\n",
      "discriminator loss at step 5900: -0.114898644\n",
      "adversarial loss at step 5900: 15.942385\n",
      "discriminator loss at step 6000: -0.13945402\n",
      "adversarial loss at step 6000: 15.942385\n",
      "discriminator loss at step 6100: -0.10349586\n",
      "adversarial loss at step 6100: 15.942385\n",
      "discriminator loss at step 6200: -0.10755096\n",
      "adversarial loss at step 6200: 15.942385\n",
      "discriminator loss at step 6300: -0.12302641\n",
      "adversarial loss at step 6300: 15.942385\n",
      "discriminator loss at step 6400: -0.1380194\n",
      "adversarial loss at step 6400: 15.942385\n",
      "discriminator loss at step 6500: -0.10979508\n",
      "adversarial loss at step 6500: 15.942385\n",
      "discriminator loss at step 6600: -0.1313206\n",
      "adversarial loss at step 6600: 15.942385\n",
      "discriminator loss at step 6700: -0.16589855\n",
      "adversarial loss at step 6700: 15.942385\n",
      "discriminator loss at step 6800: -0.121737696\n",
      "adversarial loss at step 6800: 15.942385\n",
      "discriminator loss at step 6900: -0.12656774\n",
      "adversarial loss at step 6900: 15.942385\n",
      "discriminator loss at step 7000: -0.16301161\n",
      "adversarial loss at step 7000: 15.942385\n",
      "discriminator loss at step 7100: -0.13781828\n",
      "adversarial loss at step 7100: 15.942385\n",
      "discriminator loss at step 7200: -0.16601142\n",
      "adversarial loss at step 7200: 15.942385\n",
      "discriminator loss at step 7300: -0.16820213\n",
      "adversarial loss at step 7300: 15.942385\n",
      "discriminator loss at step 7400: -0.08612752\n",
      "adversarial loss at step 7400: 15.942385\n",
      "discriminator loss at step 7500: -0.13361104\n",
      "adversarial loss at step 7500: 15.942385\n",
      "discriminator loss at step 7600: -0.114339076\n",
      "adversarial loss at step 7600: 15.942385\n",
      "discriminator loss at step 7700: -0.13410607\n",
      "adversarial loss at step 7700: 15.942385\n",
      "discriminator loss at step 7800: -0.13858625\n",
      "adversarial loss at step 7800: 15.84509\n",
      "discriminator loss at step 7900: -0.13804276\n",
      "adversarial loss at step 7900: 15.942385\n",
      "discriminator loss at step 8000: -0.16053194\n",
      "adversarial loss at step 8000: 15.942385\n",
      "discriminator loss at step 8100: -0.14724126\n",
      "adversarial loss at step 8100: 15.942385\n",
      "discriminator loss at step 8200: -0.118256345\n",
      "adversarial loss at step 8200: 15.942385\n",
      "discriminator loss at step 8300: -0.13827458\n",
      "adversarial loss at step 8300: 15.942385\n",
      "discriminator loss at step 8400: -0.13072306\n",
      "adversarial loss at step 8400: 15.942385\n",
      "discriminator loss at step 8500: -0.14045471\n",
      "adversarial loss at step 8500: 15.942385\n",
      "discriminator loss at step 8600: -0.1438146\n",
      "adversarial loss at step 8600: 15.942385\n",
      "discriminator loss at step 8700: -0.1017044\n",
      "adversarial loss at step 8700: 15.942385\n",
      "discriminator loss at step 8800: -0.052289564\n",
      "adversarial loss at step 8800: 6.7733765\n",
      "discriminator loss at step 8900: -0.1285542\n",
      "adversarial loss at step 8900: 15.942385\n",
      "discriminator loss at step 9000: -0.11828959\n",
      "adversarial loss at step 9000: 15.942385\n",
      "discriminator loss at step 9100: -0.13043591\n",
      "adversarial loss at step 9100: 15.942385\n",
      "discriminator loss at step 9200: -0.1679385\n",
      "adversarial loss at step 9200: 15.942385\n",
      "discriminator loss at step 9300: -0.10760437\n",
      "adversarial loss at step 9300: 15.942385\n",
      "discriminator loss at step 9400: -0.11710153\n",
      "adversarial loss at step 9400: 15.942385\n",
      "discriminator loss at step 9500: -0.18122849\n",
      "adversarial loss at step 9500: 15.942385\n"
     ]
    },
    {
     "name": "stdout",
     "output_type": "stream",
     "text": [
      "discriminator loss at step 9600: -0.13438359\n",
      "adversarial loss at step 9600: 15.942385\n",
      "discriminator loss at step 9700: -0.14002803\n",
      "adversarial loss at step 9700: 15.942385\n",
      "discriminator loss at step 9800: 0.04764416\n",
      "adversarial loss at step 9800: 0.10985037\n",
      "discriminator loss at step 9900: -0.17149262\n",
      "adversarial loss at step 9900: 15.942385\n"
     ]
    }
   ],
   "source": [
    "import os, platform\n",
    "from keras.preprocessing import image\n",
    "\n",
    "# Load CIFAR10 data\n",
    "(x_train, y_train), (_, _) = keras.datasets.cifar10.load_data()\n",
    "\n",
    "# Select frog images (class 6)\n",
    "x_train = x_train[y_train.flatten() == 6]\n",
    "\n",
    "# Normalize data\n",
    "x_train = x_train.reshape(\n",
    "    (x_train.shape[0],) + (height, width, channels)).astype('float32') / 255.\n",
    "\n",
    "iterations = 10000\n",
    "batch_size = 20\n",
    "\n",
    "sys_name = platform.system().lower()\n",
    "\n",
    "save_dir = \"\"\n",
    "\n",
    "if ( sys_name == \"windows\" ) :\n",
    "    save_dir = 'E:/Datasets/gan_images/'\n",
    "elif ( sys_name == \"linux\" ) :\n",
    "    save_dir = '/home/ubuntu/data/gan_images/'\n",
    "else:\n",
    "    save_dir = '/Users/vinnys/Downloads/gan_images/'\n",
    "\n",
    "#save_dir = '/home/ubuntu/gan_images/'\n",
    "\n",
    "# Start training loop\n",
    "start = 0\n",
    "for step in range(iterations):\n",
    "    # Sample random points in the latent space\n",
    "    random_latent_vectors = np.random.normal(size=(batch_size, latent_dim))\n",
    "\n",
    "    # Decode them to fake images\n",
    "    generated_images = generator.predict(random_latent_vectors)\n",
    "\n",
    "    # Combine them with real images\n",
    "    stop = start + batch_size\n",
    "    real_images = x_train[start: stop]\n",
    "    combined_images = np.concatenate([generated_images, real_images])\n",
    "\n",
    "    # Assemble labels discriminating real from fake images\n",
    "    labels = np.concatenate([np.ones((batch_size, 1)),\n",
    "                             np.zeros((batch_size, 1))])\n",
    "    # Add random noise to the labels - important trick!\n",
    "    labels += 0.05 * np.random.random(labels.shape)\n",
    "\n",
    "    # Train the discriminator\n",
    "    d_loss = discriminator.train_on_batch(combined_images, labels)\n",
    "\n",
    "    # sample random points in the latent space\n",
    "    random_latent_vectors = np.random.normal(size=(batch_size, latent_dim))\n",
    "\n",
    "    # Assemble labels that say \"all real images\"\n",
    "    misleading_targets = np.zeros((batch_size, 1))\n",
    "\n",
    "    # Train the generator (via the gan model,\n",
    "    # where the discriminator weights are frozen)\n",
    "    a_loss = gan.train_on_batch(random_latent_vectors, misleading_targets)\n",
    "    \n",
    "    start += batch_size\n",
    "    if start > len(x_train) - batch_size:\n",
    "      start = 0\n",
    "\n",
    "    # Occasionally save / plot\n",
    "    if step % 100 == 0:\n",
    "        # Save model weights\n",
    "        gan.save_weights('gan.h5')\n",
    "\n",
    "        # Print metrics\n",
    "        print('discriminator loss at step %s: %s' % (step, d_loss))\n",
    "        print('adversarial loss at step %s: %s' % (step, a_loss))\n",
    "\n",
    "        # Save one generated image\n",
    "        img = image.array_to_img(generated_images[0] * 255., scale=False)\n",
    "        img.save(os.path.join(save_dir, 'generated_frog' + str(step) + '.png'))\n",
    "\n",
    "        # Save one real image, for comparison\n",
    "        img = image.array_to_img(real_images[0] * 255., scale=False)\n",
    "        img.save(os.path.join(save_dir, 'real_frog' + str(step) + '.png'))"
   ]
  },
  {
   "cell_type": "markdown",
   "metadata": {
    "collapsed": true
   },
   "source": [
    "Let's display a few of our fake images:"
   ]
  },
  {
   "cell_type": "code",
   "execution_count": 12,
   "metadata": {},
   "outputs": [
    {
     "data": {
      "image/png": "[encoded data removed]",
      "text/plain": [
       "<Figure size 432x288 with 1 Axes>"
      ]
     },
     "metadata": {
      "needs_background": "light"
     },
     "output_type": "display_data"
    },
    {
     "data": {
      "image/png": "[encoded data removed]",
      "text/plain": [
       "<Figure size 432x288 with 1 Axes>"
      ]
     },
     "metadata": {
      "needs_background": "light"
     },
     "output_type": "display_data"
    },
    {
     "data": {
      "image/png": "[encoded data removed]",
      "text/plain": [
       "<Figure size 432x288 with 1 Axes>"
      ]
     },
     "metadata": {
      "needs_background": "light"
     },
     "output_type": "display_data"
    },
    {
     "data": {
      "image/png": "[encoded data removed]",
      "text/plain": [
       "<Figure size 432x288 with 1 Axes>"
      ]
     },
     "metadata": {
      "needs_background": "light"
     },
     "output_type": "display_data"
    },
    {
     "data": {
      "image/png": "[encoded data removed]",
      "text/plain": [
       "<Figure size 432x288 with 1 Axes>"
      ]
     },
     "metadata": {
      "needs_background": "light"
     },
     "output_type": "display_data"
    },
    {
     "data": {
      "image/png": "[encoded data removed]",
      "text/plain": [
       "<Figure size 432x288 with 1 Axes>"
      ]
     },
     "metadata": {
      "needs_background": "light"
     },
     "output_type": "display_data"
    },
    {
     "data": {
      "image/png": "[encoded data removed]",
      "text/plain": [
       "<Figure size 432x288 with 1 Axes>"
      ]
     },
     "metadata": {
      "needs_background": "light"
     },
     "output_type": "display_data"
    },
    {
     "data": {
      "image/png": "[encoded data removed]",
      "text/plain": [
       "<Figure size 432x288 with 1 Axes>"
      ]
     },
     "metadata": {
      "needs_background": "light"
     },
     "output_type": "display_data"
    },
    {
     "data": {
      "image/png": "[encoded data removed]",
      "text/plain": [
       "<Figure size 432x288 with 1 Axes>"
      ]
     },
     "metadata": {
      "needs_background": "light"
     },
     "output_type": "display_data"
    },
    {
     "data": {
      "image/png": "[encoded data removed]",
      "text/plain": [
       "<Figure size 432x288 with 1 Axes>"
      ]
     },
     "metadata": {
      "needs_background": "light"
     },
     "output_type": "display_data"
    }
   ],
   "source": [
    "import matplotlib.pyplot as plt\n",
    "\n",
    "# Sample random points in the latent space\n",
    "random_latent_vectors = np.random.normal(size=(10, latent_dim))\n",
    "\n",
    "# Decode them to fake images\n",
    "generated_images = generator.predict(random_latent_vectors)\n",
    "\n",
    "for i in range(generated_images.shape[0]):\n",
    "    img = image.array_to_img(generated_images[i] * 255., scale=False)\n",
    "    plt.figure()\n",
    "    plt.imshow(img)\n",
    "    \n",
    "plt.show()"
   ]
  },
  {
   "cell_type": "markdown",
   "metadata": {},
   "source": [
    "Froggy with some pixellated artifacts."
   ]
  }
 ],
 "metadata": {
  "kernelspec": {
   "display_name": "Python 3",
   "language": "python",
   "name": "python3"
  },
  "language_info": {
   "codemirror_mode": {
    "name": "ipython",
    "version": 3
   },
   "file_extension": ".py",
   "mimetype": "text/x-python",
   "name": "python",
   "nbconvert_exporter": "python",
   "pygments_lexer": "ipython3",
   "version": "3.6.8"
  }
 },
 "nbformat": 4,
 "nbformat_minor": 2
}
