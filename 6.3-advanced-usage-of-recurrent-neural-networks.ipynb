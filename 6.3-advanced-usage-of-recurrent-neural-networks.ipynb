{
 "cells": [
  {
   "cell_type": "code",
   "execution_count": 1,
   "metadata": {},
   "outputs": [
    {
     "name": "stderr",
     "output_type": "stream",
     "text": [
      "Using TensorFlow backend.\n"
     ]
    },
    {
     "data": {
      "text/plain": [
       "'2.2.4'"
      ]
     },
     "execution_count": 1,
     "metadata": {},
     "output_type": "execute_result"
    }
   ],
   "source": [
    "import keras\n",
    "keras.__version__"
   ]
  },
  {
   "cell_type": "markdown",
   "metadata": {},
   "source": [
    "# Advanced usage of recurrent neural networks\n",
    "\n",
    "This notebook contains the code samples found in Chapter 6, Section 3 of [Deep Learning with Python](https://www.manning.com/books/deep-learning-with-python?a_aid=keras&a_bid=76564dff). Note that the original text features far more content, in particular further explanations and figures: in this notebook, you will only find source code and related comments.\n",
    "\n",
    "---\n",
    "\n",
    "In this section, we will review three advanced techniques for improving the performance and generalization power of recurrent neural \n",
    "networks. By the end of the section, you will know most of what there is to know about using recurrent networks with Keras. We will \n",
    "demonstrate all three concepts on a weather forecasting problem, where we have access to a timeseries of data points coming from sensors \n",
    "installed on the roof of a building, such as temperature, air pressure, and humidity, which we use to predict what the temperature will be \n",
    "24 hours after the last data point collected. This is a fairly challenging problem that exemplifies many common difficulties encountered \n",
    "when working with timeseries.\n",
    "\n",
    "We will cover the following techniques:\n",
    "\n",
    "* *Recurrent dropout*, a specific, built-in way to use dropout to fight overfitting in recurrent layers.\n",
    "* *Stacking recurrent layers*, to increase the representational power of the network (at the cost of higher computational loads).\n",
    "* *Bidirectional recurrent layers*, which presents the same information to a recurrent network in different ways, increasing accuracy and \n",
    "mitigating forgetting issues."
   ]
  },
  {
   "cell_type": "markdown",
   "metadata": {},
   "source": [
    "## A temperature forecasting problem\n",
    "\n",
    "Until now, the only sequence data we have covered has been text data, for instance the IMDB dataset and the Reuters dataset. But sequence \n",
    "data is found in many more problems than just language processing. In all of our examples in this section, we will be playing with a weather \n",
    "timeseries dataset recorded at the Weather Station at the Max-Planck-Institute for Biogeochemistry in Jena, Germany: http://www.bgc-jena.mpg.de/wetter/.\n",
    "\n",
    "In this dataset, fourteen different quantities (such air temperature, atmospheric pressure, humidity, wind direction, etc.) are recorded \n",
    "every ten minutes, over several years. The original data goes back to 2003, but we limit ourselves to data from 2009-2016. This dataset is \n",
    "perfect for learning to work with numerical timeseries. We will use it to build a model that takes as input some data from the recent past (a \n",
    "few days worth of data points) and predicts the air temperature 24 hours in the future."
   ]
  },
  {
   "cell_type": "markdown",
   "metadata": {},
   "source": [
    "Let's take a look at the data:"
   ]
  },
  {
   "cell_type": "code",
   "execution_count": 2,
   "metadata": {},
   "outputs": [
    {
     "name": "stdout",
     "output_type": "stream",
     "text": [
      "['\"Date Time\"', '\"p (mbar)\"', '\"T (degC)\"', '\"Tpot (K)\"', '\"Tdew (degC)\"', '\"rh (%)\"', '\"VPmax (mbar)\"', '\"VPact (mbar)\"', '\"VPdef (mbar)\"', '\"sh (g/kg)\"', '\"H2OC (mmol/mol)\"', '\"rho (g/m**3)\"', '\"wv (m/s)\"', '\"max. wv (m/s)\"', '\"wd (deg)\"']\n",
      "420551\n"
     ]
    }
   ],
   "source": [
    "import os, platform\n",
    "\n",
    "sys_name = platform.system().lower()\n",
    "\n",
    "data_dir = \"\"\n",
    "\n",
    "if ( sys_name == \"windows\" ) :\n",
    "    data_dir = 'E:/Datasets/'\n",
    "elif ( sys_name == \"linux\" ) :\n",
    "    data_dir = '/home/ubuntu/data/'\n",
    "else:\n",
    "    data_dir = '/Users/vinnys/Downloads/'\n",
    "\n",
    "#data_dir = '/home/ubuntu/data/'\n",
    "\n",
    "fname = os.path.join(data_dir, 'jena_climate_2009_2016.csv')\n",
    "\n",
    "f = open(fname)\n",
    "data = f.read()\n",
    "f.close()\n",
    "\n",
    "lines = data.split('\\n')\n",
    "header = lines[0].split(',')\n",
    "lines = lines[1:]\n",
    "\n",
    "print(header)\n",
    "print(len(lines))"
   ]
  },
  {
   "cell_type": "markdown",
   "metadata": {},
   "source": [
    "Let's convert all of these 420,551 lines of data into a Numpy array:"
   ]
  },
  {
   "cell_type": "code",
   "execution_count": 3,
   "metadata": {},
   "outputs": [],
   "source": [
    "import numpy as np\n",
    "\n",
    "float_data = np.zeros((len(lines), len(header) - 1))\n",
    "for i, line in enumerate(lines):\n",
    "    values = [float(x) for x in line.split(',')[1:]]\n",
    "    float_data[i, :] = values"
   ]
  },
  {
   "cell_type": "markdown",
   "metadata": {},
   "source": [
    "For instance, here is the plot of temperature (in degrees Celsius) over time:"
   ]
  },
  {
   "cell_type": "code",
   "execution_count": 4,
   "metadata": {},
   "outputs": [
    {
     "data": {
      "text/plain": [
       "<Figure size 640x480 with 1 Axes>"
      ]
     },
     "metadata": {},
     "output_type": "display_data"
    }
   ],
   "source": [
    "from matplotlib import pyplot as plt\n",
    "\n",
    "temp = float_data[:, 1]  # temperature (in degrees Celsius)\n",
    "plt.plot(range(len(temp)), temp)\n",
    "plt.show()"
   ]
  },
  {
   "cell_type": "markdown",
   "metadata": {},
   "source": [
    "\n",
    "On this plot, you can clearly see the yearly periodicity of temperature.\n",
    "\n",
    "Here is a more narrow plot of the first ten days of temperature data (since the data is recorded every ten minutes, we get 144 data points \n",
    "per day):"
   ]
  },
  {
   "cell_type": "code",
   "execution_count": 5,
   "metadata": {},
   "outputs": [
    {
     "data": {
      "image/png": "[encoded data removed]",
      "text/plain": [
       "<Figure size 432x288 with 1 Axes>"
      ]
     },
     "metadata": {
      "needs_background": "light"
     },
     "output_type": "display_data"
    }
   ],
   "source": [
    "plt.plot(range(1440), temp[:1440])\n",
    "plt.show()"
   ]
  },
  {
   "cell_type": "markdown",
   "metadata": {},
   "source": [
    "\n",
    "On this plot, you can see daily periodicity, especially evident for the last 4 days. We can also note that this ten-days period must be \n",
    "coming from a fairly cold winter month.\n",
    "\n",
    "If we were trying to predict average temperature for the next month given a few month of past data, the problem would be easy, due to the \n",
    "reliable year-scale periodicity of the data. But looking at the data over a scale of days, the temperature looks a lot more chaotic. So is \n",
    "this timeseries predictable at a daily scale? Let's find out."
   ]
  },
  {
   "cell_type": "markdown",
   "metadata": {},
   "source": [
    "## Preparing the data\n",
    "\n",
    "\n",
    "The exact formulation of our problem will be the following: given data going as far back as `lookback` timesteps (a timestep is 10 minutes) \n",
    "and sampled every `steps` timesteps, can we predict the temperature in `delay` timesteps?\n",
    "\n",
    "We will use the following parameter values:\n",
    "\n",
    "* `lookback = 720`, i.e. our observations will go back 5 days.\n",
    "* `steps = 6`, i.e. our observations will be sampled at one data point per hour.\n",
    "* `delay = 144`, i.e. our targets will be 24 hours in the future.\n",
    "\n",
    "To get started, we need to do two things:\n",
    "\n",
    "* Preprocess the data to a format a neural network can ingest. This is easy: the data is already numerical, so we don't need to do any \n",
    "vectorization. However each timeseries in the data is on a different scale (e.g. temperature is typically between -20 and +30, but \n",
    "pressure, measured in mbar, is around 1000). So we will normalize each timeseries independently so that they all take small values on a \n",
    "similar scale.\n",
    "* Write a Python generator that takes our current array of float data and yields batches of data from the recent past, alongside with a \n",
    "target temperature in the future. Since the samples in our dataset are highly redundant (e.g. sample `N` and sample `N + 1` will have most \n",
    "of their timesteps in common), it would be very wasteful to explicitly allocate every sample. Instead, we will generate the samples on the \n",
    "fly using the original data.\n",
    "\n",
    "We preprocess the data by subtracting the mean of each timeseries and dividing by the standard deviation. We plan on using the first \n",
    "200,000 timesteps as training data, so we compute the mean and standard deviation only on this fraction of the data:"
   ]
  },
  {
   "cell_type": "code",
   "execution_count": 6,
   "metadata": {},
   "outputs": [],
   "source": [
    "mean = float_data[:200000].mean(axis=0)\n",
    "float_data -= mean\n",
    "std = float_data[:200000].std(axis=0)\n",
    "float_data /= std"
   ]
  },
  {
   "cell_type": "markdown",
   "metadata": {},
   "source": [
    "\n",
    "Now here is the data generator that we will use. It yields a tuple `(samples, targets)` where `samples` is one batch of input data and \n",
    "`targets` is the corresponding array of target temperatures. It takes the following arguments:\n",
    "\n",
    "* `data`: The original array of floating point data, which we just normalized in the code snippet above.\n",
    "* `lookback`: How many timesteps back should our input data go.\n",
    "* `delay`: How many timesteps in the future should our target be.\n",
    "* `min_index` and `max_index`: Indices in the `data` array that delimit which timesteps to draw from. This is useful for keeping a segment \n",
    "of the data for validation and another one for testing.\n",
    "* `shuffle`: Whether to shuffle our samples or draw them in chronological order.\n",
    "* `batch_size`: The number of samples per batch.\n",
    "* `step`: The period, in timesteps, at which we sample data. We will set it 6 in order to draw one data point every hour."
   ]
  },
  {
   "cell_type": "code",
   "execution_count": 7,
   "metadata": {},
   "outputs": [],
   "source": [
    "def generator(data, lookback, delay, min_index, max_index,\n",
    "              shuffle=False, batch_size=128, step=6):\n",
    "    if max_index is None:\n",
    "        max_index = len(data) - delay - 1\n",
    "    i = min_index + lookback\n",
    "    while 1:\n",
    "        if shuffle:\n",
    "            rows = np.random.randint(\n",
    "                min_index + lookback, max_index, size=batch_size)\n",
    "        else:\n",
    "            if i + batch_size >= max_index:\n",
    "                i = min_index + lookback\n",
    "            rows = np.arange(i, min(i + batch_size, max_index))\n",
    "            i += len(rows)\n",
    "\n",
    "        samples = np.zeros((len(rows),\n",
    "                           lookback // step,\n",
    "                           data.shape[-1]))\n",
    "        targets = np.zeros((len(rows),))\n",
    "        for j, row in enumerate(rows):\n",
    "            indices = range(rows[j] - lookback, rows[j], step)\n",
    "            samples[j] = data[indices]\n",
    "            targets[j] = data[rows[j] + delay][1]\n",
    "        yield samples, targets"
   ]
  },
  {
   "cell_type": "markdown",
   "metadata": {},
   "source": [
    "\n",
    "Now let's use our abstract generator function to instantiate three generators, one for training, one for validation and one for testing. \n",
    "Each will look at different temporal segments of the original data: the training generator looks at the first 200,000 timesteps, the \n",
    "validation generator looks at the following 100,000, and the test generator looks at the remainder."
   ]
  },
  {
   "cell_type": "code",
   "execution_count": 8,
   "metadata": {},
   "outputs": [],
   "source": [
    "lookback = 1440\n",
    "step = 6\n",
    "delay = 144\n",
    "batch_size = 128\n",
    "\n",
    "train_gen = generator(float_data,\n",
    "                      lookback=lookback,\n",
    "                      delay=delay,\n",
    "                      min_index=0,\n",
    "                      max_index=200000,\n",
    "                      shuffle=True,\n",
    "                      step=step, \n",
    "                      batch_size=batch_size)\n",
    "val_gen = generator(float_data,\n",
    "                    lookback=lookback,\n",
    "                    delay=delay,\n",
    "                    min_index=200001,\n",
    "                    max_index=300000,\n",
    "                    step=step,\n",
    "                    batch_size=batch_size)\n",
    "test_gen = generator(float_data,\n",
    "                     lookback=lookback,\n",
    "                     delay=delay,\n",
    "                     min_index=300001,\n",
    "                     max_index=None,\n",
    "                     step=step,\n",
    "                     batch_size=batch_size)\n",
    "\n",
    "# This is how many steps to draw from `val_gen`\n",
    "# in order to see the whole validation set:\n",
    "val_steps = (300000 - 200001 - lookback) // batch_size\n",
    "\n",
    "# This is how many steps to draw from `test_gen`\n",
    "# in order to see the whole test set:\n",
    "test_steps = (len(float_data) - 300001 - lookback) // batch_size"
   ]
  },
  {
   "cell_type": "markdown",
   "metadata": {},
   "source": [
    "## A common sense, non-machine learning baseline\n",
    "\n",
    "\n",
    "Before we start leveraging black-box deep learning models to solve our temperature prediction problem, let's try out a simple common-sense \n",
    "approach. It will serve as a sanity check, and it will establish a baseline that we will have to beat in order to demonstrate the \n",
    "usefulness of more advanced machine learning models. Such common-sense baselines can be very useful when approaching a new problem for \n",
    "which there is no known solution (yet). A classic example is that of unbalanced classification tasks, where some classes can be much more \n",
    "common than others. If your dataset contains 90% of instances of class A and 10% of instances of class B, then a common sense approach to \n",
    "the classification task would be to always predict \"A\" when presented with a new sample. Such a classifier would be 90% accurate overall, \n",
    "and any learning-based approach should therefore beat this 90% score in order to demonstrate usefulness. Sometimes such elementary \n",
    "baseline can prove surprisingly hard to beat.\n",
    "\n",
    "In our case, the temperature timeseries can safely be assumed to be continuous (the temperatures tomorrow are likely to be close to the \n",
    "temperatures today) as well as periodical with a daily period. Thus a common sense approach would be to always predict that the temperature \n",
    "24 hours from now will be equal to the temperature right now. Let's evaluate this approach, using the Mean Absolute Error metric (MAE). \n",
    "Mean Absolute Error is simply equal to:"
   ]
  },
  {
   "cell_type": "code",
   "execution_count": 9,
   "metadata": {},
   "outputs": [],
   "source": [
    "#np.mean(np.abs(preds - targets))"
   ]
  },
  {
   "cell_type": "markdown",
   "metadata": {},
   "source": [
    "Here's our evaluation loop:"
   ]
  },
  {
   "cell_type": "code",
   "execution_count": 10,
   "metadata": {},
   "outputs": [
    {
     "name": "stdout",
     "output_type": "stream",
     "text": [
      "0.2897359729905486\n"
     ]
    }
   ],
   "source": [
    "def evaluate_naive_method():\n",
    "    batch_maes = []\n",
    "    for step in range(val_steps):\n",
    "        samples, targets = next(val_gen)\n",
    "        preds = samples[:, -1, 1]\n",
    "        mae = np.mean(np.abs(preds - targets))\n",
    "        batch_maes.append(mae)\n",
    "    print(np.mean(batch_maes))\n",
    "    \n",
    "evaluate_naive_method()"
   ]
  },
  {
   "cell_type": "markdown",
   "metadata": {},
   "source": [
    "It yields a MAE of 0.29. Since our temperature data has been normalized to be centered on 0 and have a standard deviation of one, this \n",
    "number is not immediately interpretable. It translates to an average absolute error of `0.29 * temperature_std` degrees Celsius, i.e. \n",
    "2.57˚C. That's a fairly large average absolute error -- now the game is to leverage our knowledge of deep learning to do better. "
   ]
  },
  {
   "cell_type": "markdown",
   "metadata": {},
   "source": [
    "## A basic machine learning approach\n",
    "\n",
    "In the same way that it is useful to establish a common sense baseline before trying machine learning approaches, it is useful to try \n",
    "simple and cheap machine learning models (such as small densely-connected networks) before looking into complicated and computationally \n",
    "expensive models such as RNNs. This is the best way to make sure that any further complexity we throw at the problem later on is legitimate \n",
    "and delivers real benefits.\n",
    "\n",
    "Here is a simply fully-connected model in which we start by flattening the data, then run it through two `Dense` layers. Note the lack of \n",
    "activation function on the last `Dense` layer, which is typical for a regression problem. We use MAE as the loss. Since we are evaluating \n",
    "on the exact same data and with the exact same metric as with our common sense approach, the results will be directly comparable."
   ]
  },
  {
   "cell_type": "code",
   "execution_count": 11,
   "metadata": {},
   "outputs": [
    {
     "name": "stdout",
     "output_type": "stream",
     "text": [
      "Epoch 1/20\n",
      "500/500 [==============================] - 12s 25ms/step - loss: 1.6224 - val_loss: 0.8845\n",
      "Epoch 2/20\n",
      "500/500 [==============================] - 11s 22ms/step - loss: 0.5944 - val_loss: 0.3256\n",
      "Epoch 3/20\n",
      "500/500 [==============================] - 11s 22ms/step - loss: 0.3462 - val_loss: 0.3686\n",
      "Epoch 4/20\n",
      "500/500 [==============================] - 11s 21ms/step - loss: 0.2828 - val_loss: 0.2901\n",
      "Epoch 5/20\n",
      "500/500 [==============================] - 11s 22ms/step - loss: 0.2647 - val_loss: 0.3124\n",
      "Epoch 6/20\n",
      "500/500 [==============================] - 11s 22ms/step - loss: 0.2521 - val_loss: 0.3308\n",
      "Epoch 7/20\n",
      "500/500 [==============================] - 11s 21ms/step - loss: 0.2433 - val_loss: 0.3013\n",
      "Epoch 8/20\n",
      "500/500 [==============================] - 11s 21ms/step - loss: 0.2378 - val_loss: 0.3069\n",
      "Epoch 9/20\n",
      "500/500 [==============================] - 11s 21ms/step - loss: 0.2301 - val_loss: 0.3198\n",
      "Epoch 10/20\n",
      "500/500 [==============================] - 11s 21ms/step - loss: 0.2277 - val_loss: 0.3028\n",
      "Epoch 11/20\n",
      "500/500 [==============================] - 11s 21ms/step - loss: 0.2218 - val_loss: 0.3054\n",
      "Epoch 12/20\n",
      "500/500 [==============================] - 11s 21ms/step - loss: 0.2195 - val_loss: 0.3464\n",
      "Epoch 13/20\n",
      "500/500 [==============================] - 11s 21ms/step - loss: 0.2163 - val_loss: 0.3132\n",
      "Epoch 14/20\n",
      "500/500 [==============================] - 11s 21ms/step - loss: 0.2146 - val_loss: 0.3166\n",
      "Epoch 15/20\n",
      "500/500 [==============================] - 11s 21ms/step - loss: 0.2123 - val_loss: 0.3219\n",
      "Epoch 16/20\n",
      "500/500 [==============================] - 11s 22ms/step - loss: 0.2097 - val_loss: 0.3308\n",
      "Epoch 17/20\n",
      "500/500 [==============================] - 11s 22ms/step - loss: 0.2065 - val_loss: 0.3374\n",
      "Epoch 18/20\n",
      "500/500 [==============================] - 11s 21ms/step - loss: 0.2059 - val_loss: 0.3221\n",
      "Epoch 19/20\n",
      "500/500 [==============================] - 11s 21ms/step - loss: 0.2036 - val_loss: 0.3356\n",
      "Epoch 20/20\n",
      "500/500 [==============================] - 11s 21ms/step - loss: 0.2009 - val_loss: 0.3370\n"
     ]
    }
   ],
   "source": [
    "from keras.models import Sequential\n",
    "from keras import layers\n",
    "from keras.optimizers import RMSprop\n",
    "\n",
    "model = Sequential()\n",
    "model.add(layers.Flatten(input_shape=(lookback // step, float_data.shape[-1])))\n",
    "model.add(layers.Dense(32, activation='relu'))\n",
    "model.add(layers.Dense(1))\n",
    "\n",
    "model.compile(optimizer=RMSprop(), loss='mae')\n",
    "history = model.fit_generator(train_gen,\n",
    "                              steps_per_epoch=500,\n",
    "                              epochs=20,\n",
    "                              validation_data=val_gen,\n",
    "                              validation_steps=val_steps)"
   ]
  },
  {
   "cell_type": "markdown",
   "metadata": {},
   "source": [
    "Let's display the loss curves for validation and training:"
   ]
  },
  {
   "cell_type": "code",
   "execution_count": 12,
   "metadata": {},
   "outputs": [
    {
     "data": {
      "image/png": "[encoded data removed]",
      "text/plain": [
       "<Figure size 432x288 with 1 Axes>"
      ]
     },
     "metadata": {
      "needs_background": "light"
     },
     "output_type": "display_data"
    }
   ],
   "source": [
    "import matplotlib.pyplot as plt\n",
    "\n",
    "loss = history.history['loss']\n",
    "val_loss = history.history['val_loss']\n",
    "\n",
    "epochs = range(len(loss))\n",
    "\n",
    "plt.figure()\n",
    "\n",
    "plt.plot(epochs, loss, 'bo', label='Training loss')\n",
    "plt.plot(epochs, val_loss, 'b', label='Validation loss')\n",
    "plt.title('Training and validation loss')\n",
    "plt.legend()\n",
    "\n",
    "plt.show()"
   ]
  },
  {
   "cell_type": "markdown",
   "metadata": {},
   "source": [
    "\n",
    "Some of our validation losses get close to the no-learning baseline, but not very reliably. This goes to show the merit of having had this baseline in the first place: it turns out not to be so easy to outperform. Our \n",
    "common sense contains already a lot of valuable information that a machine learning model does not have access to.\n",
    "\n",
    "You may ask, if there exists a simple, well-performing model to go from the data to the targets (our common sense baseline), why doesn't \n",
    "the model we are training find it and improve on it? Simply put: because this simple solution is not what our training setup is looking \n",
    "for. The space of models in which we are searching for a solution, i.e. our hypothesis space, is the space of all possible 2-layer networks \n",
    "with the configuration that we defined. These networks are already fairly complicated. When looking for a solution with a space of \n",
    "complicated models, the simple well-performing baseline might be unlearnable, even if it's technically part of the hypothesis space. That \n",
    "is a pretty significant limitation of machine learning in general: unless the learning algorithm is hard-coded to look for a specific kind \n",
    "of simple model, parameter learning can sometimes fail to find a simple solution to a simple problem."
   ]
  },
  {
   "cell_type": "markdown",
   "metadata": {},
   "source": [
    "## A first recurrent baseline\n",
    "\n",
    "\n",
    "Our first fully-connected approach didn't do so well, but that doesn't mean machine learning is not applicable to our problem. The approach \n",
    "above consisted in first flattening the timeseries, which removed the notion of time from the input data. Let us instead look at our data \n",
    "as what it is: a sequence, where causality and order matter. We will try a recurrent sequence processing model -- it should be the perfect \n",
    "fit for such sequence data, precisely because it does exploit the temporal ordering of data points, unlike our first approach.\n",
    "\n",
    "Instead of the `LSTM` layer introduced in the previous section, we will use the `GRU` layer, developed by Cho et al. in 2014. `GRU` layers \n",
    "(which stands for \"gated recurrent unit\") work by leveraging the same principle as LSTM, but they are somewhat streamlined and thus cheaper \n",
    "to run, albeit they may not have quite as much representational power as LSTM. This trade-off between computational expensiveness and \n",
    "representational power is seen everywhere in machine learning."
   ]
  },
  {
   "cell_type": "code",
   "execution_count": 13,
   "metadata": {},
   "outputs": [
    {
     "name": "stdout",
     "output_type": "stream",
     "text": [
      "Epoch 1/20\n",
      "500/500 [==============================] - 161s 322ms/step - loss: 0.3005 - val_loss: 0.2812\n",
      "Epoch 2/20\n",
      "500/500 [==============================] - 160s 320ms/step - loss: 0.2851 - val_loss: 0.2629\n",
      "Epoch 3/20\n",
      "500/500 [==============================] - 159s 318ms/step - loss: 0.2783 - val_loss: 0.2655\n",
      "Epoch 4/20\n",
      "500/500 [==============================] - 159s 318ms/step - loss: 0.2743 - val_loss: 0.2640\n",
      "Epoch 5/20\n",
      "500/500 [==============================] - 161s 321ms/step - loss: 0.2684 - val_loss: 0.2677\n",
      "Epoch 6/20\n",
      "500/500 [==============================] - 160s 319ms/step - loss: 0.2624 - val_loss: 0.2635\n",
      "Epoch 7/20\n",
      "500/500 [==============================] - 160s 320ms/step - loss: 0.2566 - val_loss: 0.2625\n",
      "Epoch 8/20\n",
      "500/500 [==============================] - 160s 321ms/step - loss: 0.2527 - val_loss: 0.2663\n",
      "Epoch 9/20\n",
      "500/500 [==============================] - 159s 318ms/step - loss: 0.2487 - val_loss: 0.2680\n",
      "Epoch 10/20\n",
      "500/500 [==============================] - 159s 318ms/step - loss: 0.2425 - val_loss: 0.2702\n",
      "Epoch 11/20\n",
      "500/500 [==============================] - 160s 320ms/step - loss: 0.2411 - val_loss: 0.2698\n",
      "Epoch 12/20\n",
      "500/500 [==============================] - 160s 320ms/step - loss: 0.2358 - val_loss: 0.2800\n",
      "Epoch 13/20\n",
      "500/500 [==============================] - 159s 318ms/step - loss: 0.2335 - val_loss: 0.2774\n",
      "Epoch 14/20\n",
      "500/500 [==============================] - 159s 319ms/step - loss: 0.2275 - val_loss: 0.2792\n",
      "Epoch 15/20\n",
      "500/500 [==============================] - 160s 320ms/step - loss: 0.2242 - val_loss: 0.2822\n",
      "Epoch 16/20\n",
      "500/500 [==============================] - 160s 321ms/step - loss: 0.2195 - val_loss: 0.2853\n",
      "Epoch 17/20\n",
      "500/500 [==============================] - 160s 320ms/step - loss: 0.2182 - val_loss: 0.2875\n",
      "Epoch 18/20\n",
      "500/500 [==============================] - 159s 319ms/step - loss: 0.2153 - val_loss: 0.2875\n",
      "Epoch 19/20\n",
      "500/500 [==============================] - 159s 319ms/step - loss: 0.2123 - val_loss: 0.2889\n",
      "Epoch 20/20\n",
      "500/500 [==============================] - 159s 318ms/step - loss: 0.2099 - val_loss: 0.2939\n"
     ]
    }
   ],
   "source": [
    "from keras.models import Sequential\n",
    "from keras import layers\n",
    "from keras.optimizers import RMSprop\n",
    "\n",
    "model = Sequential()\n",
    "model.add(layers.GRU(32, input_shape=(None, float_data.shape[-1])))\n",
    "model.add(layers.Dense(1))\n",
    "\n",
    "model.compile(optimizer=RMSprop(), loss='mae')\n",
    "history = model.fit_generator(train_gen,\n",
    "                              steps_per_epoch=500,\n",
    "                              epochs=20,\n",
    "                              validation_data=val_gen,\n",
    "                              validation_steps=val_steps)"
   ]
  },
  {
   "cell_type": "markdown",
   "metadata": {},
   "source": [
    "Let look at our results:"
   ]
  },
  {
   "cell_type": "code",
   "execution_count": 14,
   "metadata": {},
   "outputs": [
    {
     "data": {
      "image/png": "[encoded data removed]",
      "text/plain": [
       "<Figure size 432x288 with 1 Axes>"
      ]
     },
     "metadata": {
      "needs_background": "light"
     },
     "output_type": "display_data"
    }
   ],
   "source": [
    "loss = history.history['loss']\n",
    "val_loss = history.history['val_loss']\n",
    "\n",
    "epochs = range(len(loss))\n",
    "\n",
    "plt.figure()\n",
    "\n",
    "plt.plot(epochs, loss, 'bo', label='Training loss')\n",
    "plt.plot(epochs, val_loss, 'b', label='Validation loss')\n",
    "plt.title('Training and validation loss')\n",
    "plt.legend()\n",
    "\n",
    "plt.show()"
   ]
  },
  {
   "cell_type": "markdown",
   "metadata": {},
   "source": [
    "\n",
    "Much better! We are able to significantly beat the common sense baseline, such demonstrating the value of machine learning here, as well as \n",
    "the superiority of recurrent networks compared to sequence-flattening dense networks on this type of task.\n",
    "\n",
    "Our new validation MAE of ~0.265 (before we start significantly overfitting) translates to a mean absolute error of 2.35˚C after \n",
    "de-normalization. That's a solid gain on our initial error of 2.57˚C, but we probably still have a bit of margin for improvement."
   ]
  },
  {
   "cell_type": "markdown",
   "metadata": {},
   "source": [
    "## Using recurrent dropout to fight overfitting\n",
    "\n",
    "\n",
    "It is evident from our training and validation curves that our model is overfitting: the training and validation losses start diverging \n",
    "considerably after a few epochs. You are already familiar with a classic technique for fighting this phenomenon: dropout, consisting in \n",
    "randomly zeroing-out input units of a layer in order to break happenstance correlations in the training data that the layer is exposed to. \n",
    "How to correctly apply dropout in recurrent networks, however, is not a trivial question. It has long been known that applying dropout \n",
    "before a recurrent layer hinders learning rather than helping with regularization. In 2015, Yarin Gal, as part of his Ph.D. thesis on \n",
    "Bayesian deep learning, determined the proper way to use dropout with a recurrent network: the same dropout mask (the same pattern of \n",
    "dropped units) should be applied at every timestep, instead of a dropout mask that would vary randomly from timestep to timestep. What's \n",
    "more: in order to regularize the representations formed by the recurrent gates of layers such as GRU and LSTM, a temporally constant \n",
    "dropout mask should be applied to the inner recurrent activations of the layer (a \"recurrent\" dropout mask). Using the same dropout mask at \n",
    "every timestep allows the network to properly propagate its learning error through time; a temporally random dropout mask would instead \n",
    "disrupt this error signal and be harmful to the learning process.\n",
    "\n",
    "Yarin Gal did his research using Keras and helped build this mechanism directly into Keras recurrent layers. Every recurrent layer in Keras \n",
    "has two dropout-related arguments: `dropout`, a float specifying the dropout rate for input units of the layer, and `recurrent_dropout`, \n",
    "specifying the dropout rate of the recurrent units. Let's add dropout and recurrent dropout to our GRU layer and see how it impacts \n",
    "overfitting. Because networks being regularized with dropout always take longer to fully converge, we train our network for twice as many \n",
    "epochs."
   ]
  },
  {
   "cell_type": "code",
   "execution_count": 15,
   "metadata": {},
   "outputs": [
    {
     "name": "stdout",
     "output_type": "stream",
     "text": [
      "Epoch 1/40\n",
      "500/500 [==============================] - 183s 366ms/step - loss: 0.3342 - val_loss: 0.2848\n",
      "Epoch 2/40\n",
      "500/500 [==============================] - 182s 365ms/step - loss: 0.3130 - val_loss: 0.2757\n",
      "Epoch 3/40\n",
      "500/500 [==============================] - 182s 363ms/step - loss: 0.3066 - val_loss: 0.2699\n",
      "Epoch 4/40\n",
      "500/500 [==============================] - 182s 363ms/step - loss: 0.3022 - val_loss: 0.2705\n",
      "Epoch 5/40\n",
      "500/500 [==============================] - 182s 365ms/step - loss: 0.2998 - val_loss: 0.2696\n",
      "Epoch 6/40\n",
      "500/500 [==============================] - 182s 364ms/step - loss: 0.2970 - val_loss: 0.2707\n",
      "Epoch 7/40\n",
      "500/500 [==============================] - 182s 365ms/step - loss: 0.2938 - val_loss: 0.2706\n",
      "Epoch 8/40\n",
      "500/500 [==============================] - 182s 363ms/step - loss: 0.2933 - val_loss: 0.2695\n",
      "Epoch 9/40\n",
      "500/500 [==============================] - 182s 364ms/step - loss: 0.2930 - val_loss: 0.2688\n",
      "Epoch 10/40\n",
      "500/500 [==============================] - 182s 365ms/step - loss: 0.2921 - val_loss: 0.2682\n",
      "Epoch 11/40\n",
      "500/500 [==============================] - 182s 364ms/step - loss: 0.2871 - val_loss: 0.2725\n",
      "Epoch 12/40\n",
      "500/500 [==============================] - 182s 363ms/step - loss: 0.2881 - val_loss: 0.2703\n",
      "Epoch 13/40\n",
      "500/500 [==============================] - 182s 365ms/step - loss: 0.2872 - val_loss: 0.2700\n",
      "Epoch 14/40\n",
      "500/500 [==============================] - 182s 364ms/step - loss: 0.2864 - val_loss: 0.2698\n",
      "Epoch 15/40\n",
      "500/500 [==============================] - 182s 363ms/step - loss: 0.2829 - val_loss: 0.2681\n",
      "Epoch 16/40\n",
      "500/500 [==============================] - 182s 363ms/step - loss: 0.2838 - val_loss: 0.2703\n",
      "Epoch 17/40\n",
      "500/500 [==============================] - 182s 364ms/step - loss: 0.2835 - val_loss: 0.2638\n",
      "Epoch 18/40\n",
      "500/500 [==============================] - 182s 364ms/step - loss: 0.2823 - val_loss: 0.2739\n",
      "Epoch 19/40\n",
      "500/500 [==============================] - 182s 363ms/step - loss: 0.2817 - val_loss: 0.2721\n",
      "Epoch 20/40\n",
      "500/500 [==============================] - 182s 364ms/step - loss: 0.2806 - val_loss: 0.2662\n",
      "Epoch 21/40\n",
      "500/500 [==============================] - 182s 363ms/step - loss: 0.2791 - val_loss: 0.2635\n",
      "Epoch 22/40\n",
      "500/500 [==============================] - 182s 363ms/step - loss: 0.2788 - val_loss: 0.2612\n",
      "Epoch 23/40\n",
      "500/500 [==============================] - 182s 364ms/step - loss: 0.2782 - val_loss: 0.2632\n",
      "Epoch 24/40\n",
      "500/500 [==============================] - 181s 363ms/step - loss: 0.2776 - val_loss: 0.2626\n",
      "Epoch 25/40\n",
      "500/500 [==============================] - 181s 362ms/step - loss: 0.2756 - val_loss: 0.2657\n",
      "Epoch 26/40\n",
      "500/500 [==============================] - 181s 363ms/step - loss: 0.2757 - val_loss: 0.2639\n",
      "Epoch 27/40\n",
      "500/500 [==============================] - 182s 363ms/step - loss: 0.2751 - val_loss: 0.2635\n",
      "Epoch 28/40\n",
      "500/500 [==============================] - 181s 362ms/step - loss: 0.2741 - val_loss: 0.2802\n",
      "Epoch 29/40\n",
      "500/500 [==============================] - 181s 362ms/step - loss: 0.2748 - val_loss: 0.2644\n",
      "Epoch 30/40\n",
      "500/500 [==============================] - 180s 359ms/step - loss: 0.2725 - val_loss: 0.2707\n",
      "Epoch 31/40\n",
      "500/500 [==============================] - 179s 358ms/step - loss: 0.2750 - val_loss: 0.2633\n",
      "Epoch 32/40\n",
      "500/500 [==============================] - 179s 358ms/step - loss: 0.2736 - val_loss: 0.2681\n",
      "Epoch 33/40\n",
      "500/500 [==============================] - 179s 358ms/step - loss: 0.2729 - val_loss: 0.2673\n",
      "Epoch 34/40\n",
      "500/500 [==============================] - 179s 359ms/step - loss: 0.2707 - val_loss: 0.2631\n",
      "Epoch 35/40\n",
      "500/500 [==============================] - 180s 360ms/step - loss: 0.2710 - val_loss: 0.2620\n",
      "Epoch 36/40\n",
      "500/500 [==============================] - 181s 361ms/step - loss: 0.2720 - val_loss: 0.2663\n",
      "Epoch 37/40\n",
      "500/500 [==============================] - 180s 359ms/step - loss: 0.2715 - val_loss: 0.2810\n",
      "Epoch 38/40\n",
      "500/500 [==============================] - 180s 360ms/step - loss: 0.2711 - val_loss: 0.2659\n",
      "Epoch 39/40\n",
      "500/500 [==============================] - 180s 360ms/step - loss: 0.2690 - val_loss: 0.2625\n",
      "Epoch 40/40\n",
      "500/500 [==============================] - 181s 361ms/step - loss: 0.2702 - val_loss: 0.2684\n"
     ]
    }
   ],
   "source": [
    "from keras.models import Sequential\n",
    "from keras import layers\n",
    "from keras.optimizers import RMSprop\n",
    "\n",
    "model = Sequential()\n",
    "model.add(layers.GRU(32,\n",
    "                     dropout=0.2,\n",
    "                     recurrent_dropout=0.2,\n",
    "                     input_shape=(None, float_data.shape[-1])))\n",
    "model.add(layers.Dense(1))\n",
    "\n",
    "model.compile(optimizer=RMSprop(), loss='mae')\n",
    "history = model.fit_generator(train_gen,\n",
    "                              steps_per_epoch=500,\n",
    "                              epochs=40,\n",
    "                              validation_data=val_gen,\n",
    "                              validation_steps=val_steps)"
   ]
  },
  {
   "cell_type": "code",
   "execution_count": 16,
   "metadata": {},
   "outputs": [
    {
     "data": {
      "image/png": "[encoded data removed]",
      "text/plain": [
       "<Figure size 432x288 with 1 Axes>"
      ]
     },
     "metadata": {
      "needs_background": "light"
     },
     "output_type": "display_data"
    }
   ],
   "source": [
    "loss = history.history['loss']\n",
    "val_loss = history.history['val_loss']\n",
    "\n",
    "epochs = range(len(loss))\n",
    "\n",
    "plt.figure()\n",
    "\n",
    "plt.plot(epochs, loss, 'bo', label='Training loss')\n",
    "plt.plot(epochs, val_loss, 'b', label='Validation loss')\n",
    "plt.title('Training and validation loss')\n",
    "plt.legend()\n",
    "\n",
    "plt.show()"
   ]
  },
  {
   "cell_type": "markdown",
   "metadata": {},
   "source": [
    "Great success; we are no longer overfitting during the first 30 epochs. However, while we have more stable evaluation scores, our best \n",
    "scores are not much lower than they were previously."
   ]
  },
  {
   "cell_type": "markdown",
   "metadata": {},
   "source": [
    "## Stacking recurrent layers\n",
    "\n",
    "Since we are no longer overfitting yet we seem to have hit a performance bottleneck, we should start considering increasing the capacity of \n",
    "our network. If you remember our description of the \"universal machine learning workflow\": it is a generally a good idea to increase the \n",
    "capacity of your network until overfitting becomes your primary obstacle (assuming that you are already taking basic steps to mitigate \n",
    "overfitting, such as using dropout). As long as you are not overfitting too badly, then you are likely under-capacity.\n",
    "\n",
    "Increasing network capacity is typically done by increasing the number of units in the layers, or adding more layers. Recurrent layer \n",
    "stacking is a classic way to build more powerful recurrent networks: for instance, what currently powers the Google translate algorithm is \n",
    "a stack of seven large LSTM layers -- that's huge.\n",
    "\n",
    "To stack recurrent layers on top of each other in Keras, all intermediate layers should return their full sequence of outputs (a 3D tensor) \n",
    "rather than their output at the last timestep. This is done by specifying `return_sequences=True`: "
   ]
  },
  {
   "cell_type": "code",
   "execution_count": 17,
   "metadata": {},
   "outputs": [
    {
     "name": "stdout",
     "output_type": "stream",
     "text": [
      "Epoch 1/40\n",
      "500/500 [==============================] - 373s 746ms/step - loss: 0.3355 - val_loss: 0.2856\n",
      "Epoch 2/40\n",
      "500/500 [==============================] - 371s 742ms/step - loss: 0.3135 - val_loss: 0.2736\n",
      "Epoch 3/40\n",
      "500/500 [==============================] - 370s 741ms/step - loss: 0.3087 - val_loss: 0.2726\n",
      "Epoch 4/40\n",
      "500/500 [==============================] - 372s 744ms/step - loss: 0.3024 - val_loss: 0.2703\n",
      "Epoch 5/40\n",
      "500/500 [==============================] - 366s 731ms/step - loss: 0.3000 - val_loss: 0.2731\n",
      "Epoch 6/40\n",
      "500/500 [==============================] - 366s 732ms/step - loss: 0.2949 - val_loss: 0.2731\n",
      "Epoch 7/40\n",
      "500/500 [==============================] - 368s 735ms/step - loss: 0.2914 - val_loss: 0.2704\n",
      "Epoch 8/40\n",
      "500/500 [==============================] - 371s 743ms/step - loss: 0.2909 - val_loss: 0.2761\n",
      "Epoch 9/40\n",
      "500/500 [==============================] - 372s 743ms/step - loss: 0.2894 - val_loss: 0.2712\n",
      "Epoch 10/40\n",
      "500/500 [==============================] - 372s 744ms/step - loss: 0.2880 - val_loss: 0.2650\n",
      "Epoch 11/40\n",
      "500/500 [==============================] - 372s 745ms/step - loss: 0.2844 - val_loss: 0.2643\n",
      "Epoch 12/40\n",
      "500/500 [==============================] - 373s 746ms/step - loss: 0.2831 - val_loss: 0.2667\n",
      "Epoch 13/40\n",
      "500/500 [==============================] - 373s 746ms/step - loss: 0.2800 - val_loss: 0.2674\n",
      "Epoch 14/40\n",
      "500/500 [==============================] - 372s 745ms/step - loss: 0.2798 - val_loss: 0.2703\n",
      "Epoch 15/40\n",
      "500/500 [==============================] - 371s 741ms/step - loss: 0.2782 - val_loss: 0.2687\n",
      "Epoch 16/40\n",
      "500/500 [==============================] - 368s 737ms/step - loss: 0.2764 - val_loss: 0.2661\n",
      "Epoch 17/40\n",
      "500/500 [==============================] - 371s 741ms/step - loss: 0.2760 - val_loss: 0.2749\n",
      "Epoch 18/40\n",
      "500/500 [==============================] - 370s 741ms/step - loss: 0.2735 - val_loss: 0.2696\n",
      "Epoch 19/40\n",
      "500/500 [==============================] - 368s 737ms/step - loss: 0.2718 - val_loss: 0.2724\n",
      "Epoch 20/40\n",
      "500/500 [==============================] - 370s 740ms/step - loss: 0.2696 - val_loss: 0.2697\n",
      "Epoch 21/40\n",
      "500/500 [==============================] - 370s 739ms/step - loss: 0.2692 - val_loss: 0.2772\n",
      "Epoch 22/40\n",
      "500/500 [==============================] - 371s 742ms/step - loss: 0.2667 - val_loss: 0.2713\n",
      "Epoch 23/40\n",
      "500/500 [==============================] - 371s 743ms/step - loss: 0.2655 - val_loss: 0.2709\n",
      "Epoch 24/40\n",
      "500/500 [==============================] - 372s 743ms/step - loss: 0.2681 - val_loss: 0.2687\n",
      "Epoch 25/40\n",
      "500/500 [==============================] - 368s 736ms/step - loss: 0.2658 - val_loss: 0.2696\n",
      "Epoch 26/40\n",
      "500/500 [==============================] - 370s 741ms/step - loss: 0.2656 - val_loss: 0.2707\n",
      "Epoch 27/40\n",
      "500/500 [==============================] - 369s 738ms/step - loss: 0.2633 - val_loss: 0.2693\n",
      "Epoch 28/40\n",
      "500/500 [==============================] - 370s 740ms/step - loss: 0.2622 - val_loss: 0.2677\n",
      "Epoch 29/40\n",
      "500/500 [==============================] - 370s 740ms/step - loss: 0.2617 - val_loss: 0.2715\n",
      "Epoch 30/40\n",
      "500/500 [==============================] - 374s 748ms/step - loss: 0.2594 - val_loss: 0.2703\n",
      "Epoch 31/40\n",
      "500/500 [==============================] - 374s 749ms/step - loss: 0.2602 - val_loss: 0.2685\n",
      "Epoch 32/40\n",
      "500/500 [==============================] - 374s 749ms/step - loss: 0.2594 - val_loss: 0.2681\n",
      "Epoch 33/40\n",
      "500/500 [==============================] - 371s 743ms/step - loss: 0.2576 - val_loss: 0.2744\n",
      "Epoch 34/40\n",
      "500/500 [==============================] - 370s 739ms/step - loss: 0.2570 - val_loss: 0.2688\n",
      "Epoch 35/40\n",
      "500/500 [==============================] - 370s 740ms/step - loss: 0.2560 - val_loss: 0.2711\n",
      "Epoch 36/40\n",
      "500/500 [==============================] - 370s 739ms/step - loss: 0.2561 - val_loss: 0.2691\n",
      "Epoch 37/40\n",
      "500/500 [==============================] - 369s 738ms/step - loss: 0.2542 - val_loss: 0.2673\n",
      "Epoch 38/40\n",
      "500/500 [==============================] - 370s 740ms/step - loss: 0.2542 - val_loss: 0.2724\n",
      "Epoch 39/40\n",
      "500/500 [==============================] - 369s 738ms/step - loss: 0.2545 - val_loss: 0.2713\n",
      "Epoch 40/40\n",
      "500/500 [==============================] - 370s 740ms/step - loss: 0.2525 - val_loss: 0.2758\n"
     ]
    }
   ],
   "source": [
    "from keras.models import Sequential\n",
    "from keras import layers\n",
    "from keras.optimizers import RMSprop\n",
    "\n",
    "model = Sequential()\n",
    "model.add(layers.GRU(32,\n",
    "                     dropout=0.1,\n",
    "                     recurrent_dropout=0.5,\n",
    "                     return_sequences=True,\n",
    "                     input_shape=(None, float_data.shape[-1])))\n",
    "model.add(layers.GRU(64, activation='relu',\n",
    "                     dropout=0.1, \n",
    "                     recurrent_dropout=0.5))\n",
    "model.add(layers.Dense(1))\n",
    "\n",
    "model.compile(optimizer=RMSprop(), loss='mae')\n",
    "history = model.fit_generator(train_gen,\n",
    "                              steps_per_epoch=500,\n",
    "                              epochs=40,\n",
    "                              validation_data=val_gen,\n",
    "                              validation_steps=val_steps)"
   ]
  },
  {
   "cell_type": "markdown",
   "metadata": {},
   "source": [
    "Let's take a look at our results:"
   ]
  },
  {
   "cell_type": "code",
   "execution_count": 18,
   "metadata": {},
   "outputs": [
    {
     "data": {
      "image/png": "[encoded data removed]",
      "text/plain": [
       "<Figure size 432x288 with 1 Axes>"
      ]
     },
     "metadata": {
      "needs_background": "light"
     },
     "output_type": "display_data"
    }
   ],
   "source": [
    "loss = history.history['loss']\n",
    "val_loss = history.history['val_loss']\n",
    "\n",
    "epochs = range(len(loss))\n",
    "\n",
    "plt.figure()\n",
    "\n",
    "plt.plot(epochs, loss, 'bo', label='Training loss')\n",
    "plt.plot(epochs, val_loss, 'b', label='Validation loss')\n",
    "plt.title('Training and validation loss')\n",
    "plt.legend()\n",
    "\n",
    "plt.show()"
   ]
  },
  {
   "cell_type": "markdown",
   "metadata": {},
   "source": [
    "We can see that the added layers does improve ours results by a bit, albeit not very significantly. We can draw two conclusions:\n",
    "\n",
    "* Since we are still not overfitting too badly, we could safely increase the size of our layers, in quest for a bit of validation loss \n",
    "improvement. This does have a non-negligible computational cost, though. \n",
    "* Since adding a layer did not help us by a significant factor, we may be seeing diminishing returns to increasing network capacity at this \n",
    "point."
   ]
  },
  {
   "cell_type": "markdown",
   "metadata": {},
   "source": [
    "## Using bidirectional RNNs\n",
    "\n",
    "\n",
    "The last technique that we will introduce in this section is called \"bidirectional RNNs\". A bidirectional RNN is common RNN variant which \n",
    "can offer higher performance than a regular RNN on certain tasks. It is frequently used in natural language processing -- you could call it \n",
    "the Swiss army knife of deep learning for NLP.\n",
    "\n",
    "RNNs are notably order-dependent, or time-dependent: they process the timesteps of their input sequences in order, and shuffling or \n",
    "reversing the timesteps can completely change the representations that the RNN will extract from the sequence. This is precisely the reason \n",
    "why they perform well on problems where order is meaningful, such as our temperature forecasting problem. A bidirectional RNN exploits \n",
    "the order-sensitivity of RNNs: it simply consists of two regular RNNs, such as the GRU or LSTM layers that you are already familiar with, \n",
    "each processing input sequence in one direction (chronologically and antichronologically), then merging their representations. By \n",
    "processing a sequence both way, a bidirectional RNN is able to catch patterns that may have been overlooked by a one-direction RNN.\n",
    "\n",
    "Remarkably, the fact that the RNN layers in this section have so far processed sequences in chronological order (older timesteps first) may \n",
    "have been an arbitrary decision. At least, it's a decision we made no attempt at questioning so far. Could it be that our RNNs could have \n",
    "performed well enough if it were processing input sequences in antichronological order, for instance (newer timesteps first)? Let's try \n",
    "this in practice and see what we get. All we need to do is write a variant of our data generator, where the input sequences get reverted \n",
    "along the time dimension (replace the last line with `yield samples[:, ::-1, :], targets`). Training the same one-GRU-layer network as we \n",
    "used in the first experiment in this section, we get the following results:"
   ]
  },
  {
   "cell_type": "code",
   "execution_count": 19,
   "metadata": {},
   "outputs": [],
   "source": [
    "def reverse_order_generator(data, lookback, delay, min_index, max_index,\n",
    "                            shuffle=False, batch_size=128, step=6):\n",
    "    if max_index is None:\n",
    "        max_index = len(data) - delay - 1\n",
    "    i = min_index + lookback\n",
    "    while 1:\n",
    "        if shuffle:\n",
    "            rows = np.random.randint(\n",
    "                min_index + lookback, max_index, size=batch_size)\n",
    "        else:\n",
    "            if i + batch_size >= max_index:\n",
    "                i = min_index + lookback\n",
    "            rows = np.arange(i, min(i + batch_size, max_index))\n",
    "            i += len(rows)\n",
    "\n",
    "        samples = np.zeros((len(rows),\n",
    "                           lookback // step,\n",
    "                           data.shape[-1]))\n",
    "        targets = np.zeros((len(rows),))\n",
    "        for j, row in enumerate(rows):\n",
    "            indices = range(rows[j] - lookback, rows[j], step)\n",
    "            samples[j] = data[indices]\n",
    "            targets[j] = data[rows[j] + delay][1]\n",
    "        yield samples[:, ::-1, :], targets\n",
    "        \n",
    "train_gen_reverse = reverse_order_generator(\n",
    "    float_data,\n",
    "    lookback=lookback,\n",
    "    delay=delay,\n",
    "    min_index=0,\n",
    "    max_index=200000,\n",
    "    shuffle=True,\n",
    "    step=step, \n",
    "    batch_size=batch_size)\n",
    "val_gen_reverse = reverse_order_generator(\n",
    "    float_data,\n",
    "    lookback=lookback,\n",
    "    delay=delay,\n",
    "    min_index=200001,\n",
    "    max_index=300000,\n",
    "    step=step,\n",
    "    batch_size=batch_size)"
   ]
  },
  {
   "cell_type": "code",
   "execution_count": 20,
   "metadata": {},
   "outputs": [
    {
     "name": "stdout",
     "output_type": "stream",
     "text": [
      "Epoch 1/20\n",
      "500/500 [==============================] - 161s 322ms/step - loss: 0.4729 - val_loss: 0.4839\n",
      "Epoch 2/20\n",
      "500/500 [==============================] - 159s 318ms/step - loss: 0.4326 - val_loss: 0.4726\n",
      "Epoch 3/20\n",
      "500/500 [==============================] - 159s 319ms/step - loss: 0.3858 - val_loss: 0.4851\n",
      "Epoch 4/20\n",
      "500/500 [==============================] - 159s 318ms/step - loss: 0.3537 - val_loss: 0.4589\n",
      "Epoch 5/20\n",
      "500/500 [==============================] - 159s 318ms/step - loss: 0.3299 - val_loss: 0.4655\n",
      "Epoch 6/20\n",
      "500/500 [==============================] - 159s 318ms/step - loss: 0.3155 - val_loss: 0.4696\n",
      "Epoch 7/20\n",
      "500/500 [==============================] - 159s 319ms/step - loss: 0.3021 - val_loss: 0.4874\n",
      "Epoch 8/20\n",
      "500/500 [==============================] - 160s 319ms/step - loss: 0.2912 - val_loss: 0.4741\n",
      "Epoch 9/20\n",
      "500/500 [==============================] - 159s 319ms/step - loss: 0.2820 - val_loss: 0.4651\n",
      "Epoch 10/20\n",
      "500/500 [==============================] - 159s 318ms/step - loss: 0.2718 - val_loss: 0.4618\n",
      "Epoch 11/20\n",
      "500/500 [==============================] - 160s 320ms/step - loss: 0.2641 - val_loss: 0.4628\n",
      "Epoch 12/20\n",
      "500/500 [==============================] - 160s 320ms/step - loss: 0.2572 - val_loss: 0.4599\n",
      "Epoch 13/20\n",
      "500/500 [==============================] - 160s 320ms/step - loss: 0.2527 - val_loss: 0.4677\n",
      "Epoch 14/20\n",
      "500/500 [==============================] - 159s 318ms/step - loss: 0.2466 - val_loss: 0.4802\n",
      "Epoch 15/20\n",
      "500/500 [==============================] - 159s 318ms/step - loss: 0.2424 - val_loss: 0.4779\n",
      "Epoch 16/20\n",
      "500/500 [==============================] - 159s 318ms/step - loss: 0.2392 - val_loss: 0.4745\n",
      "Epoch 17/20\n",
      "500/500 [==============================] - 159s 319ms/step - loss: 0.2354 - val_loss: 0.4724\n",
      "Epoch 18/20\n",
      "500/500 [==============================] - 159s 318ms/step - loss: 0.2323 - val_loss: 0.4798\n",
      "Epoch 19/20\n",
      "500/500 [==============================] - 159s 319ms/step - loss: 0.2294 - val_loss: 0.4735\n",
      "Epoch 20/20\n",
      "500/500 [==============================] - 160s 320ms/step - loss: 0.2263 - val_loss: 0.4669\n"
     ]
    }
   ],
   "source": [
    "model = Sequential()\n",
    "model.add(layers.GRU(32, input_shape=(None, float_data.shape[-1])))\n",
    "model.add(layers.Dense(1))\n",
    "\n",
    "model.compile(optimizer=RMSprop(), loss='mae')\n",
    "history = model.fit_generator(train_gen_reverse,\n",
    "                              steps_per_epoch=500,\n",
    "                              epochs=20,\n",
    "                              validation_data=val_gen_reverse,\n",
    "                              validation_steps=val_steps)"
   ]
  },
  {
   "cell_type": "code",
   "execution_count": 21,
   "metadata": {},
   "outputs": [
    {
     "data": {
      "image/png": "[encoded data removed]",
      "text/plain": [
       "<Figure size 432x288 with 1 Axes>"
      ]
     },
     "metadata": {
      "needs_background": "light"
     },
     "output_type": "display_data"
    }
   ],
   "source": [
    "loss = history.history['loss']\n",
    "val_loss = history.history['val_loss']\n",
    "\n",
    "epochs = range(len(loss))\n",
    "\n",
    "plt.figure()\n",
    "\n",
    "plt.plot(epochs, loss, 'bo', label='Training loss')\n",
    "plt.plot(epochs, val_loss, 'b', label='Validation loss')\n",
    "plt.title('Training and validation loss')\n",
    "plt.legend()\n",
    "\n",
    "plt.show()"
   ]
  },
  {
   "cell_type": "markdown",
   "metadata": {},
   "source": [
    "\n",
    "So the reversed-order GRU strongly underperforms even the common-sense baseline, indicating that the in our case chronological processing is very \n",
    "important to the success of our approach. This makes perfect sense: the underlying GRU layer will typically be better at remembering the \n",
    "recent past than the distant past, and naturally the more recent weather data points are more predictive than older data points in our \n",
    "problem (that's precisely what makes the common-sense baseline a fairly strong baseline). Thus the chronological version of the layer is \n",
    "bound to outperform the reversed-order version. Importantly, this is generally not true for many other problems, including natural \n",
    "language: intuitively, the importance of a word in understanding a sentence is not usually dependent on its position in the sentence. Let's \n",
    "try the same trick on the LSTM IMDB example from the previous section:"
   ]
  },
  {
   "cell_type": "code",
   "execution_count": 22,
   "metadata": {},
   "outputs": [
    {
     "name": "stdout",
     "output_type": "stream",
     "text": [
      "Train on 20000 samples, validate on 5000 samples\n",
      "Epoch 1/10\n",
      "20000/20000 [==============================] - 109s 5ms/step - loss: 0.4855 - acc: 0.7693 - val_loss: 0.3689 - val_acc: 0.8638\n",
      "Epoch 2/10\n",
      "20000/20000 [==============================] - 108s 5ms/step - loss: 0.3099 - acc: 0.8806 - val_loss: 0.3385 - val_acc: 0.8648\n",
      "Epoch 3/10\n",
      "20000/20000 [==============================] - 109s 5ms/step - loss: 0.2571 - acc: 0.9018 - val_loss: 0.3188 - val_acc: 0.8678\n",
      "Epoch 4/10\n",
      "20000/20000 [==============================] - 109s 5ms/step - loss: 0.2136 - acc: 0.9212 - val_loss: 0.3702 - val_acc: 0.8818\n",
      "Epoch 5/10\n",
      "20000/20000 [==============================] - 109s 5ms/step - loss: 0.1952 - acc: 0.9312 - val_loss: 0.3888 - val_acc: 0.8670\n",
      "Epoch 6/10\n",
      "20000/20000 [==============================] - 109s 5ms/step - loss: 0.1740 - acc: 0.9396 - val_loss: 0.3665 - val_acc: 0.8468\n",
      "Epoch 7/10\n",
      "20000/20000 [==============================] - 109s 5ms/step - loss: 0.1553 - acc: 0.9456 - val_loss: 0.6321 - val_acc: 0.8418\n",
      "Epoch 8/10\n",
      "20000/20000 [==============================] - 109s 5ms/step - loss: 0.1429 - acc: 0.9520 - val_loss: 0.4061 - val_acc: 0.8638\n",
      "Epoch 9/10\n",
      "20000/20000 [==============================] - 109s 5ms/step - loss: 0.1268 - acc: 0.9583 - val_loss: 0.5068 - val_acc: 0.8532\n",
      "Epoch 10/10\n",
      "20000/20000 [==============================] - 108s 5ms/step - loss: 0.1173 - acc: 0.9589 - val_loss: 0.4447 - val_acc: 0.8730\n"
     ]
    }
   ],
   "source": [
    "from keras.datasets import imdb\n",
    "from keras.preprocessing import sequence\n",
    "from keras import layers\n",
    "from keras.models import Sequential\n",
    "\n",
    "# Number of words to consider as features\n",
    "max_features = 10000\n",
    "# Cut texts after this number of words (among top max_features most common words)\n",
    "maxlen = 500\n",
    "\n",
    "# Load data\n",
    "(x_train, y_train), (x_test, y_test) = imdb.load_data(num_words=max_features)\n",
    "\n",
    "# Reverse sequences\n",
    "x_train = [x[::-1] for x in x_train]\n",
    "x_test = [x[::-1] for x in x_test]\n",
    "\n",
    "# Pad sequences\n",
    "x_train = sequence.pad_sequences(x_train, maxlen=maxlen)\n",
    "x_test = sequence.pad_sequences(x_test, maxlen=maxlen)\n",
    "\n",
    "model = Sequential()\n",
    "model.add(layers.Embedding(max_features, 128))\n",
    "model.add(layers.LSTM(32))\n",
    "model.add(layers.Dense(1, activation='sigmoid'))\n",
    "\n",
    "model.compile(optimizer='rmsprop',\n",
    "              loss='binary_crossentropy',\n",
    "              metrics=['acc'])\n",
    "history = model.fit(x_train, y_train,\n",
    "                    epochs=10,\n",
    "                    batch_size=128,\n",
    "                    validation_split=0.2)"
   ]
  },
  {
   "cell_type": "markdown",
   "metadata": {},
   "source": [
    "\n",
    "We get near-identical performance as the chronological-order LSTM we tried in the previous section.\n",
    "\n",
    "Thus, remarkably, on such a text dataset, reversed-order processing works just as well as chronological processing, confirming our \n",
    "hypothesis that, albeit word order *does* matter in understanding language, *which* order you use isn't crucial. Importantly, a RNN trained \n",
    "on reversed sequences will learn different representations than one trained on the original sequences, in much the same way that you would \n",
    "have quite different mental models if time flowed backwards in the real world -- if you lived a life where you died on your first day and \n",
    "you were born on your last day. In machine learning, representations that are *different* yet *useful* are always worth exploiting, and the \n",
    "more they differ the better: they offer a new angle from which to look at your data, capturing aspects of the data that were missed by other \n",
    "approaches, and thus they can allow to boost performance on a task. This is the intuition behind \"ensembling\", a concept that we will \n",
    "introduce in the next chapter.\n",
    "\n",
    "A bidirectional RNN exploits this idea to improve upon the performance of chronological-order RNNs: it looks at its inputs sequence both \n",
    "ways, obtaining potentially richer representations and capturing patterns that may have been missed by the chronological-order version alone."
   ]
  },
  {
   "cell_type": "markdown",
   "metadata": {},
   "source": [
    "![bidirectional rnn](https://s3.amazonaws.com/book.keras.io/img/ch6/bidirectional_rnn.png)"
   ]
  },
  {
   "cell_type": "markdown",
   "metadata": {},
   "source": [
    "To instantiate a bidirectional RNN in Keras, one would use the `Bidirectional` layer, which takes as first argument a recurrent layer \n",
    "instance. `Bidirectional` will create a second, separate instance of this recurrent layer, and will use one instance for processing the \n",
    "input sequences in chronological order and the other instance for processing the input sequences in reversed order. Let's try it on the \n",
    "IMDB sentiment analysis task:"
   ]
  },
  {
   "cell_type": "code",
   "execution_count": 23,
   "metadata": {},
   "outputs": [],
   "source": [
    "from keras import backend as K\n",
    "K.clear_session()"
   ]
  },
  {
   "cell_type": "code",
   "execution_count": 24,
   "metadata": {},
   "outputs": [
    {
     "name": "stdout",
     "output_type": "stream",
     "text": [
      "Train on 20000 samples, validate on 5000 samples\n",
      "Epoch 1/10\n",
      "20000/20000 [==============================] - 213s 11ms/step - loss: 0.5601 - acc: 0.7170 - val_loss: 0.4436 - val_acc: 0.8220\n",
      "Epoch 2/10\n",
      "20000/20000 [==============================] - 210s 11ms/step - loss: 0.3282 - acc: 0.8713 - val_loss: 0.4180 - val_acc: 0.8094\n",
      "Epoch 3/10\n",
      "20000/20000 [==============================] - 212s 11ms/step - loss: 0.2670 - acc: 0.9013 - val_loss: 0.5149 - val_acc: 0.8522\n",
      "Epoch 4/10\n",
      "20000/20000 [==============================] - 211s 11ms/step - loss: 0.2282 - acc: 0.9181 - val_loss: 0.3246 - val_acc: 0.8686\n",
      "Epoch 5/10\n",
      "20000/20000 [==============================] - 211s 11ms/step - loss: 0.2064 - acc: 0.9262 - val_loss: 0.3723 - val_acc: 0.8814\n",
      "Epoch 6/10\n",
      "20000/20000 [==============================] - 211s 11ms/step - loss: 0.1824 - acc: 0.9371 - val_loss: 0.4638 - val_acc: 0.8468\n",
      "Epoch 7/10\n",
      "20000/20000 [==============================] - 211s 11ms/step - loss: 0.1699 - acc: 0.9397 - val_loss: 0.3903 - val_acc: 0.8798\n",
      "Epoch 8/10\n",
      "20000/20000 [==============================] - 211s 11ms/step - loss: 0.1540 - acc: 0.9466 - val_loss: 0.3898 - val_acc: 0.8402\n",
      "Epoch 9/10\n",
      "20000/20000 [==============================] - 211s 11ms/step - loss: 0.1466 - acc: 0.9510 - val_loss: 0.3474 - val_acc: 0.8768\n",
      "Epoch 10/10\n",
      "20000/20000 [==============================] - 211s 11ms/step - loss: 0.1297 - acc: 0.9560 - val_loss: 0.3793 - val_acc: 0.8772\n"
     ]
    }
   ],
   "source": [
    "model = Sequential()\n",
    "model.add(layers.Embedding(max_features, 32))\n",
    "model.add(layers.Bidirectional(layers.LSTM(32)))\n",
    "model.add(layers.Dense(1, activation='sigmoid'))\n",
    "\n",
    "model.compile(optimizer='rmsprop', loss='binary_crossentropy', metrics=['acc'])\n",
    "history = model.fit(x_train, y_train, epochs=10, batch_size=128, validation_split=0.2)"
   ]
  },
  {
   "cell_type": "markdown",
   "metadata": {},
   "source": [
    "It performs slightly better than the regular LSTM we tried in the previous section, going above 88% validation accuracy. It also seems to \n",
    "overfit faster, which is unsurprising since a bidirectional layer has twice more parameters than a chronological LSTM. With some \n",
    "regularization, the bidirectional approach would likely be a strong performer on this task.\n",
    "\n",
    "Now let's try the same approach on the weather prediction task:"
   ]
  },
  {
   "cell_type": "code",
   "execution_count": 25,
   "metadata": {},
   "outputs": [
    {
     "name": "stdout",
     "output_type": "stream",
     "text": [
      "Epoch 1/40\n",
      "500/500 [==============================] - 304s 609ms/step - loss: 0.2930 - val_loss: 0.2739\n",
      "Epoch 2/40\n",
      "500/500 [==============================] - 303s 607ms/step - loss: 0.2743 - val_loss: 0.2725\n",
      "Epoch 3/40\n",
      "500/500 [==============================] - 303s 606ms/step - loss: 0.2666 - val_loss: 0.2689\n",
      "Epoch 4/40\n",
      "500/500 [==============================] - 306s 612ms/step - loss: 0.2629 - val_loss: 0.2706\n",
      "Epoch 5/40\n",
      "500/500 [==============================] - 304s 607ms/step - loss: 0.2553 - val_loss: 0.2726\n",
      "Epoch 6/40\n",
      "500/500 [==============================] - 308s 617ms/step - loss: 0.2487 - val_loss: 0.2712\n",
      "Epoch 7/40\n",
      "500/500 [==============================] - 305s 609ms/step - loss: 0.2449 - val_loss: 0.2810\n",
      "Epoch 8/40\n",
      "500/500 [==============================] - 305s 610ms/step - loss: 0.2394 - val_loss: 0.2776\n",
      "Epoch 9/40\n",
      "500/500 [==============================] - 306s 613ms/step - loss: 0.2326 - val_loss: 0.2779\n",
      "Epoch 10/40\n",
      "500/500 [==============================] - 306s 613ms/step - loss: 0.2277 - val_loss: 0.2822\n",
      "Epoch 11/40\n",
      "500/500 [==============================] - 306s 613ms/step - loss: 0.2224 - val_loss: 0.2873\n",
      "Epoch 12/40\n",
      "500/500 [==============================] - 305s 611ms/step - loss: 0.2168 - val_loss: 0.2884\n",
      "Epoch 13/40\n",
      "500/500 [==============================] - 306s 612ms/step - loss: 0.2102 - val_loss: 0.2948\n",
      "Epoch 14/40\n",
      "500/500 [==============================] - 305s 610ms/step - loss: 0.2075 - val_loss: 0.2956\n",
      "Epoch 15/40\n",
      "500/500 [==============================] - 304s 609ms/step - loss: 0.2024 - val_loss: 0.3029\n",
      "Epoch 16/40\n",
      "500/500 [==============================] - 303s 607ms/step - loss: 0.1981 - val_loss: 0.3080\n",
      "Epoch 17/40\n",
      "500/500 [==============================] - 305s 611ms/step - loss: 0.1928 - val_loss: 0.3065\n",
      "Epoch 18/40\n",
      "500/500 [==============================] - 307s 614ms/step - loss: 0.1909 - val_loss: 0.3112\n",
      "Epoch 19/40\n",
      "500/500 [==============================] - 306s 612ms/step - loss: 0.1869 - val_loss: 0.3174\n",
      "Epoch 20/40\n",
      "500/500 [==============================] - 306s 612ms/step - loss: 0.1835 - val_loss: 0.3186\n",
      "Epoch 21/40\n",
      "500/500 [==============================] - 305s 609ms/step - loss: 0.1789 - val_loss: 0.3176\n",
      "Epoch 22/40\n",
      "500/500 [==============================] - 306s 612ms/step - loss: 0.1765 - val_loss: 0.3229\n",
      "Epoch 23/40\n",
      "500/500 [==============================] - 305s 610ms/step - loss: 0.1724 - val_loss: 0.3222\n",
      "Epoch 24/40\n",
      "500/500 [==============================] - 305s 610ms/step - loss: 0.1683 - val_loss: 0.3214\n",
      "Epoch 25/40\n",
      "500/500 [==============================] - 304s 608ms/step - loss: 0.1672 - val_loss: 0.3228\n",
      "Epoch 26/40\n",
      "500/500 [==============================] - 304s 609ms/step - loss: 0.1647 - val_loss: 0.3252\n",
      "Epoch 27/40\n",
      "500/500 [==============================] - 304s 608ms/step - loss: 0.1620 - val_loss: 0.3220\n",
      "Epoch 28/40\n",
      "500/500 [==============================] - 307s 614ms/step - loss: 0.1588 - val_loss: 0.3247\n",
      "Epoch 29/40\n",
      "500/500 [==============================] - 306s 613ms/step - loss: 0.1572 - val_loss: 0.3246\n",
      "Epoch 30/40\n",
      "500/500 [==============================] - 306s 612ms/step - loss: 0.1562 - val_loss: 0.3287\n",
      "Epoch 31/40\n",
      "500/500 [==============================] - 305s 609ms/step - loss: 0.1541 - val_loss: 0.3192\n",
      "Epoch 32/40\n",
      "500/500 [==============================] - 303s 607ms/step - loss: 0.1522 - val_loss: 0.3231\n",
      "Epoch 33/40\n",
      "500/500 [==============================] - 305s 610ms/step - loss: 0.1499 - val_loss: 0.3223\n",
      "Epoch 34/40\n",
      "500/500 [==============================] - 307s 615ms/step - loss: 0.1492 - val_loss: 0.3249\n",
      "Epoch 35/40\n",
      "500/500 [==============================] - 305s 611ms/step - loss: 0.1476 - val_loss: 0.3269\n",
      "Epoch 36/40\n",
      "500/500 [==============================] - 305s 610ms/step - loss: 0.1461 - val_loss: 0.3290\n",
      "Epoch 37/40\n",
      "500/500 [==============================] - 308s 617ms/step - loss: 0.1448 - val_loss: 0.3251\n",
      "Epoch 38/40\n",
      "500/500 [==============================] - 305s 610ms/step - loss: 0.1429 - val_loss: 0.3294\n",
      "Epoch 39/40\n",
      "500/500 [==============================] - 304s 609ms/step - loss: 0.1403 - val_loss: 0.3301\n",
      "Epoch 40/40\n",
      "500/500 [==============================] - 305s 611ms/step - loss: 0.1399 - val_loss: 0.3319\n"
     ]
    }
   ],
   "source": [
    "from keras.models import Sequential\n",
    "from keras import layers\n",
    "from keras.optimizers import RMSprop\n",
    "\n",
    "model = Sequential()\n",
    "model.add(layers.Bidirectional(\n",
    "    layers.GRU(32), input_shape=(None, float_data.shape[-1])))\n",
    "model.add(layers.Dense(1))\n",
    "\n",
    "model.compile(optimizer=RMSprop(), loss='mae')\n",
    "history = model.fit_generator(train_gen,\n",
    "                              steps_per_epoch=500,\n",
    "                              epochs=40,\n",
    "                              validation_data=val_gen,\n",
    "                              validation_steps=val_steps)"
   ]
  },
  {
   "cell_type": "markdown",
   "metadata": {},
   "source": [
    "\n",
    "It performs about as well as the regular GRU layer. It's easy to understand why: all of the predictive capacity must be coming from the \n",
    "chronological half of the network, since the anti-chronological half is known to be severely underperforming on this task (again, because \n",
    "the recent past matters much more than the distant past in this case)."
   ]
  },
  {
   "cell_type": "markdown",
   "metadata": {},
   "source": [
    "\n",
    "## Going even further\n",
    "\n",
    "At this stage, there are still many other things you could try in order to improve performance on our weather forecasting problem:\n",
    "\n",
    "* Adjust the number of units in each recurrent layer in the stacked setup. Our current choices are largely arbitrary and thus likely \n",
    "suboptimal.\n",
    "* Adjust the learning rate used by our `RMSprop` optimizer.\n",
    "* Try using `LSTM` layers instead of `GRU` layers.\n",
    "* Try using a bigger densely-connected regressor on top of the recurrent layers, i.e. a bigger `Dense` layer or even a stack of `Dense` \n",
    "layers.\n",
    "* Don't forget to eventually run the best performing models (in terms of validation MAE) on the test set! Least you start developing \n",
    "architectures that are overfitting to the validation set.   \n",
    "\n",
    "As usual: deep learning is more an art than a science, and while we can provide guidelines as to what is likely to work or not work on a \n",
    "given problem, ultimately every problem is unique and you will have to try and evaluate different strategies empirically. There is \n",
    "currently no theory that will tell you in advance precisely what you should do to optimally solve a problem. You must try and iterate.\n",
    "\n",
    "\n",
    "## Wrapping up\n",
    "\n",
    "Here's what you should take away from this section:\n",
    "\n",
    "* As you first learned in Chapter 4, when approaching a new problem, \n",
    "it is good to first establish common sense baselines for your metric of choice. If you don't have a \n",
    "baseline to beat, you can't tell if you are making any real progress.\n",
    "* Try simple models before expensive ones, to justify the additional expense. Sometimes a simple model will turn out to be your best option.\n",
    "* On data where temporal ordering matters, recurrent networks are a great fit and easily outperform models that first flatten the temporal \n",
    "data.\n",
    "* To use dropout with recurrent networks, one should use a time-constant dropout mask and recurrent dropout mask. This is built into Keras \n",
    "recurrent layers, so all you have to do is use the `dropout` and `recurrent_dropout` arguments of recurrent layers.\n",
    "* Stacked RNNs provide more representational power than a single RNN layer. They are also much more expensive, and thus not always worth it. \n",
    "While they offer clear gains on complex problems (e.g. machine translation), they might not always be relevant to smaller, simpler problems.\n",
    "* Bidirectional RNNs, which look at a sequence both ways, are very useful on natural language processing problems. However, they will not \n",
    "be strong performers on sequence data where the recent past is much more informative than the beginning of the sequence.\n",
    "\n",
    "Note there are two important concepts that we will not cover in detail here: recurrent \"attention\", and sequence masking. Both tend to be \n",
    "especially relevant for natural language processing, and are not particularly applicable to our temperature forecasting problem. We will \n",
    "leave them for future study outside of this book."
   ]
  }
 ],
 "metadata": {
  "kernelspec": {
   "display_name": "Python 3",
   "language": "python",
   "name": "python3"
  },
  "language_info": {
   "codemirror_mode": {
    "name": "ipython",
    "version": 3
   },
   "file_extension": ".py",
   "mimetype": "text/x-python",
   "name": "python",
   "nbconvert_exporter": "python",
   "pygments_lexer": "ipython3",
   "version": "3.6.8"
  }
 },
 "nbformat": 4,
 "nbformat_minor": 2
}
