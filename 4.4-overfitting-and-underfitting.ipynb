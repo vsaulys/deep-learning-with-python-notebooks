{
 "cells": [
  {
   "cell_type": "code",
   "execution_count": 1,
   "metadata": {},
   "outputs": [
    {
     "name": "stderr",
     "output_type": "stream",
     "text": [
      "Using TensorFlow backend.\n"
     ]
    },
    {
     "data": {
      "text/plain": [
       "'2.2.4'"
      ]
     },
     "execution_count": 1,
     "metadata": {},
     "output_type": "execute_result"
    }
   ],
   "source": [
    "import keras\n",
    "keras.__version__"
   ]
  },
  {
   "cell_type": "markdown",
   "metadata": {},
   "source": [
    "# Overfitting and underfitting\n",
    "\n",
    "This notebook contains the code samples found in Chapter 3, Section 6 of [Deep Learning with Python](https://www.manning.com/books/deep-learning-with-python?a_aid=keras&a_bid=76564dff). Note that the original text features far more content, in particular further explanations and figures: in this notebook, you will only find source code and related comments.\n",
    "\n",
    "----\n",
    "\n",
    "\n",
    "In all the examples we saw in the previous chapter -- movie review sentiment prediction, topic classification, and house price regression -- \n",
    "we could notice that the performance of our model on the held-out validation data would always peak after a few epochs and would then start \n",
    "degrading, i.e. our model would quickly start to _overfit_ to the training data. Overfitting happens in every single machine learning \n",
    "problem. Learning how to deal with overfitting is essential to mastering machine learning.\n",
    "\n",
    "The fundamental issue in machine learning is the tension between optimization and generalization. \"Optimization\" refers to the process of \n",
    "adjusting a model to get the best performance possible on the training data (the \"learning\" in \"machine learning\"), while \"generalization\" \n",
    "refers to how well the trained model would perform on data it has never seen before. The goal of the game is to get good generalization, of \n",
    "course, but you do not control generalization; you can only adjust the model based on its training data.\n",
    "\n",
    "At the beginning of training, optimization and generalization are correlated: the lower your loss on training data, the lower your loss on \n",
    "test data. While this is happening, your model is said to be _under-fit_: there is still progress to be made; the network hasn't yet \n",
    "modeled all relevant patterns in the training data. But after a certain number of iterations on the training data, generalization stops \n",
    "improving, validation metrics stall then start degrading: the model is then starting to over-fit, i.e. is it starting to learn patterns \n",
    "that are specific to the training data but that are misleading or irrelevant when it comes to new data.\n",
    "\n",
    "To prevent a model from learning misleading or irrelevant patterns found in the training data, _the best solution is of course to get \n",
    "more training data_. A model trained on more data will naturally generalize better. When that is no longer possible, the next best solution \n",
    "is to modulate the quantity of information that your model is allowed to store, or to add constraints on what information it is allowed to \n",
    "store. If a network can only afford to memorize a small number of patterns, the optimization process will force it to focus on the most \n",
    "prominent patterns, which have a better chance of generalizing well.\n",
    "\n",
    "The processing of fighting overfitting in this way is called _regularization_. Let's review some of the most common regularization \n",
    "techniques, and let's apply them in practice to improve our movie classification model from  the previous chapter."
   ]
  },
  {
   "cell_type": "markdown",
   "metadata": {},
   "source": [
    "Note: in this notebook we will be using the IMDB test set as our validation set. It doesn't matter in this context.\n",
    "\n",
    "Let's prepare the data using the code from Chapter 3, Section 5:"
   ]
  },
  {
   "cell_type": "code",
   "execution_count": 2,
   "metadata": {},
   "outputs": [],
   "source": [
    "from keras.datasets import imdb\n",
    "import numpy as np\n",
    "\n",
    "(train_data, train_labels), (test_data, test_labels) = imdb.load_data(num_words=10000)\n",
    "\n",
    "def vectorize_sequences(sequences, dimension=10000):\n",
    "    # Create an all-zero matrix of shape (len(sequences), dimension)\n",
    "    results = np.zeros((len(sequences), dimension))\n",
    "    for i, sequence in enumerate(sequences):\n",
    "        results[i, sequence] = 1.  # set specific indices of results[i] to 1s\n",
    "    return results\n",
    "\n",
    "# Our vectorized training data\n",
    "x_train = vectorize_sequences(train_data)\n",
    "# Our vectorized test data\n",
    "x_test = vectorize_sequences(test_data)\n",
    "# Our vectorized labels\n",
    "y_train = np.asarray(train_labels).astype('float32')\n",
    "y_test = np.asarray(test_labels).astype('float32')"
   ]
  },
  {
   "cell_type": "markdown",
   "metadata": {},
   "source": [
    "# Fighting overfitting\n",
    "\n",
    "## Reducing the network's size\n",
    "\n",
    "\n",
    "The simplest way to prevent overfitting is to reduce the size of the model, i.e. the number of learnable parameters in the model (which is \n",
    "determined by the number of layers and the number of units per layer). In deep learning, the number of learnable parameters in a model is \n",
    "often referred to as the model's \"capacity\". Intuitively, a model with more parameters will have more \"memorization capacity\" and therefore \n",
    "will be able to easily learn a perfect dictionary-like mapping between training samples and their targets, a mapping without any \n",
    "generalization power. For instance, a model with 500,000 binary parameters could easily be made to learn the class of every digits in the \n",
    "MNIST training set: we would only need 10 binary parameters for each of the 50,000 digits. Such a model would be useless for classifying \n",
    "new digit samples. Always keep this in mind: deep learning models tend to be good at fitting to the training data, but the real challenge \n",
    "is generalization, not fitting.\n",
    "\n",
    "On the other hand, if the network has limited memorization resources, it will not be able to learn this mapping as easily, and thus, in \n",
    "order to minimize its loss, it will have to resort to learning compressed representations that have predictive power regarding the targets \n",
    "-- precisely the type of representations that we are interested in. At the same time, keep in mind that you should be using models that have \n",
    "enough parameters that they won't be underfitting: your model shouldn't be starved for memorization resources. There is a compromise to be \n",
    "found between \"too much capacity\" and \"not enough capacity\".\n",
    "\n",
    "Unfortunately, there is no magical formula to determine what the right number of layers is, or what the right size for each layer is. You \n",
    "will have to evaluate an array of different architectures (on your validation set, not on your test set, of course) in order to find the \n",
    "right model size for your data. The general workflow to find an appropriate model size is to start with relatively few layers and \n",
    "parameters, and start increasing the size of the layers or adding new layers until you see diminishing returns with regard to the \n",
    "validation loss.\n",
    "\n",
    "Let's try this on our movie review classification network. Our original network was as such:"
   ]
  },
  {
   "cell_type": "code",
   "execution_count": 3,
   "metadata": {},
   "outputs": [],
   "source": [
    "from keras import models\n",
    "from keras import layers\n",
    "\n",
    "original_model = models.Sequential()\n",
    "original_model.add(layers.Dense(16, activation='relu', input_shape=(10000,)))\n",
    "original_model.add(layers.Dense(16, activation='relu'))\n",
    "original_model.add(layers.Dense(1, activation='sigmoid'))\n",
    "\n",
    "original_model.compile(optimizer='rmsprop',\n",
    "                       loss='binary_crossentropy',\n",
    "                       metrics=['acc'])"
   ]
  },
  {
   "cell_type": "markdown",
   "metadata": {},
   "source": [
    "Now let's try to replace it with this smaller network:"
   ]
  },
  {
   "cell_type": "code",
   "execution_count": 4,
   "metadata": {},
   "outputs": [],
   "source": [
    "smaller_model = models.Sequential()\n",
    "smaller_model.add(layers.Dense(4, activation='relu', input_shape=(10000,)))\n",
    "smaller_model.add(layers.Dense(4, activation='relu'))\n",
    "smaller_model.add(layers.Dense(1, activation='sigmoid'))\n",
    "\n",
    "smaller_model.compile(optimizer='rmsprop',\n",
    "                      loss='binary_crossentropy',\n",
    "                      metrics=['acc'])"
   ]
  },
  {
   "cell_type": "markdown",
   "metadata": {},
   "source": [
    "\n",
    "Here's a comparison of the validation losses of the original network and the smaller network. The dots are the validation loss values of \n",
    "the smaller network, and the crosses are the initial network (remember: a lower validation loss signals a better model)."
   ]
  },
  {
   "cell_type": "code",
   "execution_count": 5,
   "metadata": {},
   "outputs": [
    {
     "name": "stdout",
     "output_type": "stream",
     "text": [
      "Train on 25000 samples, validate on 25000 samples\n",
      "Epoch 1/20\n",
      "25000/25000 [==============================] - 3s 114us/step - loss: 0.4440 - acc: 0.8250 - val_loss: 0.3285 - val_acc: 0.8835\n",
      "Epoch 2/20\n",
      "25000/25000 [==============================] - 2s 81us/step - loss: 0.2572 - acc: 0.9078 - val_loss: 0.2864 - val_acc: 0.8883\n",
      "Epoch 3/20\n",
      "25000/25000 [==============================] - 2s 77us/step - loss: 0.1992 - acc: 0.9292 - val_loss: 0.2820 - val_acc: 0.8891\n",
      "Epoch 4/20\n",
      "25000/25000 [==============================] - 2s 78us/step - loss: 0.1668 - acc: 0.9414 - val_loss: 0.2941 - val_acc: 0.8848\n",
      "Epoch 5/20\n",
      "25000/25000 [==============================] - 2s 77us/step - loss: 0.1437 - acc: 0.9499 - val_loss: 0.3118 - val_acc: 0.8806\n",
      "Epoch 6/20\n",
      "25000/25000 [==============================] - 2s 98us/step - loss: 0.1261 - acc: 0.9556 - val_loss: 0.3497 - val_acc: 0.8718\n",
      "Epoch 7/20\n",
      "25000/25000 [==============================] - 2s 76us/step - loss: 0.1107 - acc: 0.9619 - val_loss: 0.3599 - val_acc: 0.8727\n",
      "Epoch 8/20\n",
      "25000/25000 [==============================] - 2s 77us/step - loss: 0.0982 - acc: 0.9669 - val_loss: 0.3964 - val_acc: 0.8664\n",
      "Epoch 9/20\n",
      "25000/25000 [==============================] - 2s 84us/step - loss: 0.0843 - acc: 0.9724 - val_loss: 0.4255 - val_acc: 0.8638\n",
      "Epoch 10/20\n",
      "25000/25000 [==============================] - 2s 82us/step - loss: 0.0758 - acc: 0.9754 - val_loss: 0.4840 - val_acc: 0.8554\n",
      "Epoch 11/20\n",
      "25000/25000 [==============================] - 2s 81us/step - loss: 0.0688 - acc: 0.9782 - val_loss: 0.4914 - val_acc: 0.8576\n",
      "Epoch 12/20\n",
      "25000/25000 [==============================] - 2s 83us/step - loss: 0.0572 - acc: 0.9825 - val_loss: 0.5185 - val_acc: 0.8560\n",
      "Epoch 13/20\n",
      "25000/25000 [==============================] - 2s 78us/step - loss: 0.0516 - acc: 0.9845 - val_loss: 0.5340 - val_acc: 0.8583\n",
      "Epoch 14/20\n",
      "25000/25000 [==============================] - 2s 80us/step - loss: 0.0427 - acc: 0.9879 - val_loss: 0.6201 - val_acc: 0.8480\n",
      "Epoch 15/20\n",
      "25000/25000 [==============================] - 2s 85us/step - loss: 0.0366 - acc: 0.9890 - val_loss: 0.6364 - val_acc: 0.8500\n",
      "Epoch 16/20\n",
      "25000/25000 [==============================] - 2s 75us/step - loss: 0.0316 - acc: 0.9910 - val_loss: 0.6437 - val_acc: 0.8547\n",
      "Epoch 17/20\n",
      "25000/25000 [==============================] - 2s 80us/step - loss: 0.0270 - acc: 0.9924 - val_loss: 0.6785 - val_acc: 0.8532\n",
      "Epoch 18/20\n",
      "25000/25000 [==============================] - 2s 79us/step - loss: 0.0203 - acc: 0.9952 - val_loss: 0.7399 - val_acc: 0.8489\n",
      "Epoch 19/20\n",
      "25000/25000 [==============================] - 2s 87us/step - loss: 0.0228 - acc: 0.9938 - val_loss: 0.7544 - val_acc: 0.8501\n",
      "Epoch 20/20\n",
      "25000/25000 [==============================] - 2s 79us/step - loss: 0.0140 - acc: 0.9967 - val_loss: 0.8951 - val_acc: 0.8389\n"
     ]
    }
   ],
   "source": [
    "original_hist = original_model.fit(x_train, y_train,\n",
    "                                   epochs=20,\n",
    "                                   batch_size=512,\n",
    "                                   validation_data=(x_test, y_test))"
   ]
  },
  {
   "cell_type": "code",
   "execution_count": 6,
   "metadata": {},
   "outputs": [
    {
     "name": "stdout",
     "output_type": "stream",
     "text": [
      "Train on 25000 samples, validate on 25000 samples\n",
      "Epoch 1/20\n",
      "25000/25000 [==============================] - 2s 86us/step - loss: 0.5804 - acc: 0.7027 - val_loss: 0.5308 - val_acc: 0.7565\n",
      "Epoch 2/20\n",
      "25000/25000 [==============================] - 2s 79us/step - loss: 0.4843 - acc: 0.8456 - val_loss: 0.4874 - val_acc: 0.8288\n",
      "Epoch 3/20\n",
      "25000/25000 [==============================] - 2s 77us/step - loss: 0.4389 - acc: 0.8919 - val_loss: 0.4657 - val_acc: 0.8516\n",
      "Epoch 4/20\n",
      "25000/25000 [==============================] - 2s 79us/step - loss: 0.4078 - acc: 0.9150 - val_loss: 0.4530 - val_acc: 0.8657\n",
      "Epoch 5/20\n",
      "25000/25000 [==============================] - 2s 79us/step - loss: 0.3832 - acc: 0.9306 - val_loss: 0.4532 - val_acc: 0.8600\n",
      "Epoch 6/20\n",
      "25000/25000 [==============================] - 2s 73us/step - loss: 0.3620 - acc: 0.9407 - val_loss: 0.4438 - val_acc: 0.8716\n",
      "Epoch 7/20\n",
      "25000/25000 [==============================] - 2s 75us/step - loss: 0.3425 - acc: 0.9504 - val_loss: 0.4453 - val_acc: 0.8694\n",
      "Epoch 8/20\n",
      "25000/25000 [==============================] - 2s 78us/step - loss: 0.3261 - acc: 0.9563 - val_loss: 0.4489 - val_acc: 0.8690\n",
      "Epoch 9/20\n",
      "25000/25000 [==============================] - 2s 75us/step - loss: 0.3100 - acc: 0.9609 - val_loss: 0.4670 - val_acc: 0.8642\n",
      "Epoch 10/20\n",
      "25000/25000 [==============================] - 2s 78us/step - loss: 0.2962 - acc: 0.9650 - val_loss: 0.4677 - val_acc: 0.8633\n",
      "Epoch 11/20\n",
      "25000/25000 [==============================] - 2s 78us/step - loss: 0.2813 - acc: 0.9695 - val_loss: 0.4820 - val_acc: 0.8610\n",
      "Epoch 12/20\n",
      "25000/25000 [==============================] - 2s 79us/step - loss: 0.2691 - acc: 0.9713 - val_loss: 0.4751 - val_acc: 0.8633\n",
      "Epoch 13/20\n",
      "25000/25000 [==============================] - 2s 79us/step - loss: 0.2565 - acc: 0.9746 - val_loss: 0.5174 - val_acc: 0.8581\n",
      "Epoch 14/20\n",
      "25000/25000 [==============================] - 2s 79us/step - loss: 0.2455 - acc: 0.9759 - val_loss: 0.5510 - val_acc: 0.8543\n",
      "Epoch 15/20\n",
      "25000/25000 [==============================] - 2s 78us/step - loss: 0.2342 - acc: 0.9779 - val_loss: 0.5124 - val_acc: 0.8585\n",
      "Epoch 16/20\n",
      "25000/25000 [==============================] - 2s 77us/step - loss: 0.2238 - acc: 0.9803 - val_loss: 0.5279 - val_acc: 0.8574\n",
      "Epoch 17/20\n",
      "25000/25000 [==============================] - 2s 78us/step - loss: 0.2152 - acc: 0.9805 - val_loss: 0.5544 - val_acc: 0.8572\n",
      "Epoch 18/20\n",
      "25000/25000 [==============================] - 2s 78us/step - loss: 0.2055 - acc: 0.9822 - val_loss: 0.5763 - val_acc: 0.8553\n",
      "Epoch 19/20\n",
      "25000/25000 [==============================] - 2s 78us/step - loss: 0.1965 - acc: 0.9829 - val_loss: 0.5801 - val_acc: 0.8542\n",
      "Epoch 20/20\n",
      "25000/25000 [==============================] - 2s 78us/step - loss: 0.1884 - acc: 0.9842 - val_loss: 0.6844 - val_acc: 0.8486\n"
     ]
    }
   ],
   "source": [
    "smaller_model_hist = smaller_model.fit(x_train, y_train,\n",
    "                                       epochs=20,\n",
    "                                       batch_size=512,\n",
    "                                       validation_data=(x_test, y_test))"
   ]
  },
  {
   "cell_type": "code",
   "execution_count": 7,
   "metadata": {},
   "outputs": [],
   "source": [
    "epochs = range(1, 21)\n",
    "original_val_loss = original_hist.history['val_loss']\n",
    "smaller_model_val_loss = smaller_model_hist.history['val_loss']"
   ]
  },
  {
   "cell_type": "code",
   "execution_count": 8,
   "metadata": {},
   "outputs": [
    {
     "data": {
      "text/plain": [
       "<Figure size 640x480 with 1 Axes>"
      ]
     },
     "metadata": {},
     "output_type": "display_data"
    }
   ],
   "source": [
    "import matplotlib.pyplot as plt\n",
    "\n",
    "# b+ is for \"blue cross\"\n",
    "plt.plot(epochs, original_val_loss, 'b+', label='Original model')\n",
    "# \"bo\" is for \"blue dot\"\n",
    "plt.plot(epochs, smaller_model_val_loss, 'bo', label='Smaller model')\n",
    "plt.xlabel('Epochs')\n",
    "plt.ylabel('Validation loss')\n",
    "plt.legend()\n",
    "\n",
    "plt.show()"
   ]
  },
  {
   "cell_type": "markdown",
   "metadata": {},
   "source": [
    "\n",
    "As you can see, the smaller network starts overfitting later than the reference one (after 6 epochs rather than 4) and its performance \n",
    "degrades much more slowly once it starts overfitting.\n",
    "\n",
    "Now, for kicks, let's add to this benchmark a network that has much more capacity, far more than the problem would warrant:"
   ]
  },
  {
   "cell_type": "code",
   "execution_count": 9,
   "metadata": {},
   "outputs": [],
   "source": [
    "bigger_model = models.Sequential()\n",
    "bigger_model.add(layers.Dense(512, activation='relu', input_shape=(10000,)))\n",
    "bigger_model.add(layers.Dense(512, activation='relu'))\n",
    "bigger_model.add(layers.Dense(1, activation='sigmoid'))\n",
    "\n",
    "bigger_model.compile(optimizer='rmsprop',\n",
    "                     loss='binary_crossentropy',\n",
    "                     metrics=['acc'])"
   ]
  },
  {
   "cell_type": "code",
   "execution_count": 10,
   "metadata": {},
   "outputs": [
    {
     "name": "stdout",
     "output_type": "stream",
     "text": [
      "Train on 25000 samples, validate on 25000 samples\n",
      "Epoch 1/20\n",
      "25000/25000 [==============================] - 5s 209us/step - loss: 0.4755 - acc: 0.7969 - val_loss: 0.2848 - val_acc: 0.8887\n",
      "Epoch 2/20\n",
      "25000/25000 [==============================] - 5s 195us/step - loss: 0.2266 - acc: 0.9099 - val_loss: 0.2791 - val_acc: 0.8868\n",
      "Epoch 3/20\n",
      "25000/25000 [==============================] - 5s 194us/step - loss: 0.1439 - acc: 0.9468 - val_loss: 0.2963 - val_acc: 0.8794\n",
      "Epoch 4/20\n",
      "25000/25000 [==============================] - 5s 194us/step - loss: 0.0854 - acc: 0.9739 - val_loss: 0.3373 - val_acc: 0.8812\n",
      "Epoch 5/20\n",
      "25000/25000 [==============================] - 5s 194us/step - loss: 0.0605 - acc: 0.9868 - val_loss: 0.4195 - val_acc: 0.8828\n",
      "Epoch 6/20\n",
      "25000/25000 [==============================] - 5s 197us/step - loss: 0.0028 - acc: 0.9996 - val_loss: 0.6687 - val_acc: 0.8691\n",
      "Epoch 7/20\n",
      "25000/25000 [==============================] - 5s 200us/step - loss: 0.0697 - acc: 0.9882 - val_loss: 0.6246 - val_acc: 0.8814\n",
      "Epoch 8/20\n",
      "25000/25000 [==============================] - 5s 208us/step - loss: 0.0693 - acc: 0.9922 - val_loss: 1.1893 - val_acc: 0.8193\n",
      "Epoch 9/20\n",
      "25000/25000 [==============================] - 5s 217us/step - loss: 0.0141 - acc: 0.9964 - val_loss: 0.5775 - val_acc: 0.8777\n",
      "Epoch 10/20\n",
      "25000/25000 [==============================] - 5s 210us/step - loss: 5.0034e-04 - acc: 1.0000 - val_loss: 0.7485 - val_acc: 0.8790\n",
      "Epoch 11/20\n",
      "25000/25000 [==============================] - 5s 203us/step - loss: 0.0892 - acc: 0.9894 - val_loss: 0.8040 - val_acc: 0.8720\n",
      "Epoch 12/20\n",
      "25000/25000 [==============================] - 5s 203us/step - loss: 6.8455e-04 - acc: 0.9998 - val_loss: 1.1742 - val_acc: 0.8278\n",
      "Epoch 13/20\n",
      "25000/25000 [==============================] - 5s 203us/step - loss: 0.0018 - acc: 0.9997 - val_loss: 0.8151 - val_acc: 0.8775\n",
      "Epoch 14/20\n",
      "25000/25000 [==============================] - 5s 204us/step - loss: 0.0650 - acc: 0.9917 - val_loss: 0.7881 - val_acc: 0.8748\n",
      "Epoch 15/20\n",
      "25000/25000 [==============================] - 5s 205us/step - loss: 4.8836e-05 - acc: 1.0000 - val_loss: 0.8352 - val_acc: 0.8772\n",
      "Epoch 16/20\n",
      "25000/25000 [==============================] - 5s 205us/step - loss: 9.5889e-06 - acc: 1.0000 - val_loss: 1.4891 - val_acc: 0.8052\n",
      "Epoch 17/20\n",
      "25000/25000 [==============================] - 5s 207us/step - loss: 0.0791 - acc: 0.9913 - val_loss: 0.8746 - val_acc: 0.8724\n",
      "Epoch 18/20\n",
      "25000/25000 [==============================] - 5s 208us/step - loss: 9.4682e-06 - acc: 1.0000 - val_loss: 0.8844 - val_acc: 0.8754\n",
      "Epoch 19/20\n",
      "25000/25000 [==============================] - 5s 212us/step - loss: 2.8165e-06 - acc: 1.0000 - val_loss: 0.9460 - val_acc: 0.8788\n",
      "Epoch 20/20\n",
      "25000/25000 [==============================] - 5s 205us/step - loss: 0.0697 - acc: 0.9920 - val_loss: 0.9033 - val_acc: 0.8730\n"
     ]
    }
   ],
   "source": [
    "bigger_model_hist = bigger_model.fit(x_train, y_train,\n",
    "                                     epochs=20,\n",
    "                                     batch_size=512,\n",
    "                                     validation_data=(x_test, y_test))"
   ]
  },
  {
   "cell_type": "markdown",
   "metadata": {},
   "source": [
    "Here's how the bigger network fares compared to the reference one. The dots are the validation loss values of the bigger network, and the \n",
    "crosses are the initial network."
   ]
  },
  {
   "cell_type": "code",
   "execution_count": 11,
   "metadata": {},
   "outputs": [
    {
     "data": {
      "image/png": "[encoded data removed]",
      "text/plain": [
       "<Figure size 432x288 with 1 Axes>"
      ]
     },
     "metadata": {
      "needs_background": "light"
     },
     "output_type": "display_data"
    }
   ],
   "source": [
    "bigger_model_val_loss = bigger_model_hist.history['val_loss']\n",
    "\n",
    "plt.plot(epochs, original_val_loss, 'b+', label='Original model')\n",
    "plt.plot(epochs, bigger_model_val_loss, 'bo', label='Bigger model')\n",
    "plt.xlabel('Epochs')\n",
    "plt.ylabel('Validation loss')\n",
    "plt.legend()\n",
    "\n",
    "plt.show()"
   ]
  },
  {
   "cell_type": "markdown",
   "metadata": {},
   "source": [
    "\n",
    "The bigger network starts overfitting almost right away, after just one epoch, and overfits much more severely. Its validation loss is also \n",
    "more noisy.\n",
    "\n",
    "Meanwhile, here are the training losses for our two networks:"
   ]
  },
  {
   "cell_type": "code",
   "execution_count": 12,
   "metadata": {},
   "outputs": [
    {
     "data": {
      "image/png": "[encoded data removed]",
      "text/plain": [
       "<Figure size 432x288 with 1 Axes>"
      ]
     },
     "metadata": {
      "needs_background": "light"
     },
     "output_type": "display_data"
    }
   ],
   "source": [
    "original_train_loss = original_hist.history['loss']\n",
    "bigger_model_train_loss = bigger_model_hist.history['loss']\n",
    "\n",
    "plt.plot(epochs, original_train_loss, 'b+', label='Original model')\n",
    "plt.plot(epochs, bigger_model_train_loss, 'bo', label='Bigger model')\n",
    "plt.xlabel('Epochs')\n",
    "plt.ylabel('Training loss')\n",
    "plt.legend()\n",
    "\n",
    "plt.show()"
   ]
  },
  {
   "cell_type": "markdown",
   "metadata": {},
   "source": [
    "As you can see, the bigger network gets its training loss near zero very quickly. The more capacity the network has, the quicker it will be \n",
    "able to model the training data (resulting in a low training loss), but the more susceptible it is to overfitting (resulting in a large \n",
    "difference between the training and validation loss)."
   ]
  },
  {
   "cell_type": "markdown",
   "metadata": {},
   "source": [
    "## Adding weight regularization\n",
    "\n",
    "\n",
    "You may be familiar with _Occam's Razor_ principle: given two explanations for something, the explanation most likely to be correct is the \n",
    "\"simplest\" one, the one that makes the least amount of assumptions. This also applies to the models learned by neural networks: given some \n",
    "training data and a network architecture, there are multiple sets of weights values (multiple _models_) that could explain the data, and \n",
    "simpler models are less likely to overfit than complex ones.\n",
    "\n",
    "A \"simple model\" in this context is a model where the distribution of parameter values has less entropy (or a model with fewer \n",
    "parameters altogether, as we saw in the section above). Thus a common way to mitigate overfitting is to put constraints on the complexity \n",
    "of a network by forcing its weights to only take small values, which makes the distribution of weight values more \"regular\". This is called \n",
    "\"weight regularization\", and it is done by adding to the loss function of the network a _cost_ associated with having large weights. This \n",
    "cost comes in two flavors:\n",
    "\n",
    "* L1 regularization, where the cost added is proportional to the _absolute value of the weights coefficients_ (i.e. to what is called the \n",
    "\"L1 norm\" of the weights).\n",
    "* L2 regularization, where the cost added is proportional to the _square of the value of the weights coefficients_ (i.e. to what is called \n",
    "the \"L2 norm\" of the weights). L2 regularization is also called _weight decay_ in the context of neural networks. Don't let the different \n",
    "name confuse you: weight decay is mathematically the exact same as L2 regularization.\n",
    "\n",
    "In Keras, weight regularization is added by passing _weight regularizer instances_ to layers as keyword arguments. Let's add L2 weight \n",
    "regularization to our movie review classification network:"
   ]
  },
  {
   "cell_type": "code",
   "execution_count": 13,
   "metadata": {},
   "outputs": [],
   "source": [
    "from keras import regularizers\n",
    "\n",
    "l2_model = models.Sequential()\n",
    "l2_model.add(layers.Dense(16, kernel_regularizer=regularizers.l2(0.001),\n",
    "                          activation='relu', input_shape=(10000,)))\n",
    "l2_model.add(layers.Dense(16, kernel_regularizer=regularizers.l2(0.001),\n",
    "                          activation='relu'))\n",
    "l2_model.add(layers.Dense(1, activation='sigmoid'))"
   ]
  },
  {
   "cell_type": "code",
   "execution_count": 14,
   "metadata": {},
   "outputs": [],
   "source": [
    "l2_model.compile(optimizer='rmsprop',\n",
    "                 loss='binary_crossentropy',\n",
    "                 metrics=['acc'])"
   ]
  },
  {
   "cell_type": "markdown",
   "metadata": {},
   "source": [
    "`l2(0.001)` means that every coefficient in the weight matrix of the layer will add `0.001 * weight_coefficient_value` to the total loss of \n",
    "the network. Note that because this penalty is _only added at training time_, the loss for this network will be much higher at training \n",
    "than at test time.\n",
    "\n",
    "Here's the impact of our L2 regularization penalty:"
   ]
  },
  {
   "cell_type": "code",
   "execution_count": 15,
   "metadata": {},
   "outputs": [
    {
     "name": "stdout",
     "output_type": "stream",
     "text": [
      "Train on 25000 samples, validate on 25000 samples\n",
      "Epoch 1/20\n",
      "25000/25000 [==============================] - 3s 103us/step - loss: 0.4893 - acc: 0.8152 - val_loss: 0.3909 - val_acc: 0.8641\n",
      "Epoch 2/20\n",
      "25000/25000 [==============================] - 2s 86us/step - loss: 0.3103 - acc: 0.9057 - val_loss: 0.3301 - val_acc: 0.8891\n",
      "Epoch 3/20\n",
      "25000/25000 [==============================] - 2s 89us/step - loss: 0.2646 - acc: 0.9203 - val_loss: 0.3311 - val_acc: 0.8870\n",
      "Epoch 4/20\n",
      "25000/25000 [==============================] - 2s 85us/step - loss: 0.2447 - acc: 0.9294 - val_loss: 0.3406 - val_acc: 0.8822\n",
      "Epoch 5/20\n",
      "25000/25000 [==============================] - 2s 85us/step - loss: 0.2308 - acc: 0.9354 - val_loss: 0.3808 - val_acc: 0.8682\n",
      "Epoch 6/20\n",
      "25000/25000 [==============================] - 2s 79us/step - loss: 0.2222 - acc: 0.9389 - val_loss: 0.3656 - val_acc: 0.8756\n",
      "Epoch 7/20\n",
      "25000/25000 [==============================] - 2s 85us/step - loss: 0.2151 - acc: 0.9418 - val_loss: 0.3769 - val_acc: 0.8731\n",
      "Epoch 8/20\n",
      "25000/25000 [==============================] - 2s 85us/step - loss: 0.2085 - acc: 0.9454 - val_loss: 0.3725 - val_acc: 0.8756\n",
      "Epoch 9/20\n",
      "25000/25000 [==============================] - 2s 84us/step - loss: 0.2020 - acc: 0.9476 - val_loss: 0.3776 - val_acc: 0.8750\n",
      "Epoch 10/20\n",
      "25000/25000 [==============================] - 2s 85us/step - loss: 0.1983 - acc: 0.9506 - val_loss: 0.3819 - val_acc: 0.8752\n",
      "Epoch 11/20\n",
      "25000/25000 [==============================] - 2s 85us/step - loss: 0.1923 - acc: 0.9506 - val_loss: 0.3837 - val_acc: 0.8760\n",
      "Epoch 12/20\n",
      "25000/25000 [==============================] - 2s 85us/step - loss: 0.1894 - acc: 0.9524 - val_loss: 0.3935 - val_acc: 0.8741\n",
      "Epoch 13/20\n",
      "25000/25000 [==============================] - 2s 90us/step - loss: 0.1850 - acc: 0.9555 - val_loss: 0.3973 - val_acc: 0.8731\n",
      "Epoch 14/20\n",
      "25000/25000 [==============================] - 2s 95us/step - loss: 0.1794 - acc: 0.9576 - val_loss: 0.4305 - val_acc: 0.8641\n",
      "Epoch 15/20\n",
      "25000/25000 [==============================] - 2s 83us/step - loss: 0.1788 - acc: 0.9581 - val_loss: 0.4527 - val_acc: 0.8590\n",
      "Epoch 16/20\n",
      "25000/25000 [==============================] - 2s 85us/step - loss: 0.1727 - acc: 0.9606 - val_loss: 0.4466 - val_acc: 0.8648\n",
      "Epoch 17/20\n",
      "25000/25000 [==============================] - 2s 84us/step - loss: 0.1695 - acc: 0.9618 - val_loss: 0.4191 - val_acc: 0.8699\n",
      "Epoch 18/20\n",
      "25000/25000 [==============================] - 2s 82us/step - loss: 0.1663 - acc: 0.9636 - val_loss: 0.4364 - val_acc: 0.8676\n",
      "Epoch 19/20\n",
      "25000/25000 [==============================] - 2s 90us/step - loss: 0.1631 - acc: 0.9649 - val_loss: 0.4447 - val_acc: 0.8642\n",
      "Epoch 20/20\n",
      "25000/25000 [==============================] - 2s 87us/step - loss: 0.1599 - acc: 0.9666 - val_loss: 0.4295 - val_acc: 0.8697\n"
     ]
    }
   ],
   "source": [
    "l2_model_hist = l2_model.fit(x_train, y_train,\n",
    "                             epochs=20,\n",
    "                             batch_size=512,\n",
    "                             validation_data=(x_test, y_test))"
   ]
  },
  {
   "cell_type": "code",
   "execution_count": 16,
   "metadata": {},
   "outputs": [
    {
     "data": {
      "image/png": "[encoded data removed]",
      "text/plain": [
       "<Figure size 432x288 with 1 Axes>"
      ]
     },
     "metadata": {
      "needs_background": "light"
     },
     "output_type": "display_data"
    }
   ],
   "source": [
    "l2_model_val_loss = l2_model_hist.history['val_loss']\n",
    "\n",
    "plt.plot(epochs, original_val_loss, 'b+', label='Original model')\n",
    "plt.plot(epochs, l2_model_val_loss, 'bo', label='L2-regularized model')\n",
    "plt.xlabel('Epochs')\n",
    "plt.ylabel('Validation loss')\n",
    "plt.legend()\n",
    "\n",
    "plt.show()"
   ]
  },
  {
   "cell_type": "markdown",
   "metadata": {},
   "source": [
    "\n",
    "\n",
    "As you can see, the model with L2 regularization (dots) has become much more resistant to overfitting than the reference model (crosses), \n",
    "even though both models have the same number of parameters.\n",
    "\n",
    "As alternatives to L2 regularization, you could use one of the following Keras weight regularizers:"
   ]
  },
  {
   "cell_type": "code",
   "execution_count": 17,
   "metadata": {},
   "outputs": [
    {
     "data": {
      "text/plain": [
       "<keras.regularizers.L1L2 at 0xb27f26940>"
      ]
     },
     "execution_count": 17,
     "metadata": {},
     "output_type": "execute_result"
    }
   ],
   "source": [
    "from keras import regularizers\n",
    "\n",
    "# L1 regularization\n",
    "regularizers.l1(0.001)\n",
    "\n",
    "# L1 and L2 regularization at the same time\n",
    "regularizers.l1_l2(l1=0.001, l2=0.001)"
   ]
  },
  {
   "cell_type": "markdown",
   "metadata": {},
   "source": [
    "## Adding dropout\n",
    "\n",
    "\n",
    "Dropout is one of the most effective and most commonly used regularization techniques for neural networks, developed by Hinton and his \n",
    "students at the University of Toronto. Dropout, applied to a layer, consists of randomly \"dropping out\" (i.e. setting to zero) a number of \n",
    "output features of the layer during training. Let's say a given layer would normally have returned a vector `[0.2, 0.5, 1.3, 0.8, 1.1]` for a \n",
    "given input sample during training; after applying dropout, this vector will have a few zero entries distributed at random, e.g. `[0, 0.5, \n",
    "1.3, 0, 1.1]`. The \"dropout rate\" is the fraction of the features that are being zeroed-out; it is usually set between 0.2 and 0.5. At test \n",
    "time, no units are dropped out, and instead the layer's output values are scaled down by a factor equal to the dropout rate, so as to \n",
    "balance for the fact that more units are active than at training time.\n",
    "\n",
    "Consider a Numpy matrix containing the output of a layer, `layer_output`, of shape `(batch_size, features)`. At training time, we would be \n",
    "zero-ing out at random a fraction of the values in the matrix:"
   ]
  },
  {
   "cell_type": "code",
   "execution_count": 18,
   "metadata": {},
   "outputs": [
    {
     "ename": "NameError",
     "evalue": "name 'layer_output' is not defined",
     "output_type": "error",
     "traceback": [
      "\u001b[0;31m---------------------------------------------------------------------------\u001b[0m",
      "\u001b[0;31mNameError\u001b[0m                                 Traceback (most recent call last)",
      "\u001b[0;32m<ipython-input-18-f1f187ff4a2c>\u001b[0m in \u001b[0;36m<module>\u001b[0;34m\u001b[0m\n\u001b[1;32m      1\u001b[0m \u001b[0;31m# At training time: we drop out 50% of the units in the output\u001b[0m\u001b[0;34m\u001b[0m\u001b[0;34m\u001b[0m\u001b[0;34m\u001b[0m\u001b[0m\n\u001b[0;32m----> 2\u001b[0;31m \u001b[0mlayer_output\u001b[0m \u001b[0;34m*=\u001b[0m \u001b[0mnp\u001b[0m\u001b[0;34m.\u001b[0m\u001b[0mrandint\u001b[0m\u001b[0;34m(\u001b[0m\u001b[0;36m0\u001b[0m\u001b[0;34m,\u001b[0m \u001b[0mhigh\u001b[0m\u001b[0;34m=\u001b[0m\u001b[0;36m2\u001b[0m\u001b[0;34m,\u001b[0m \u001b[0msize\u001b[0m\u001b[0;34m=\u001b[0m\u001b[0mlayer_output\u001b[0m\u001b[0;34m.\u001b[0m\u001b[0mshape\u001b[0m\u001b[0;34m)\u001b[0m\u001b[0;34m\u001b[0m\u001b[0;34m\u001b[0m\u001b[0m\n\u001b[0m",
      "\u001b[0;31mNameError\u001b[0m: name 'layer_output' is not defined"
     ]
    }
   ],
   "source": [
    "# At training time: we drop out 50% of the units in the output\n",
    "layer_output *= np.randint(0, high=2, size=layer_output.shape)"
   ]
  },
  {
   "cell_type": "markdown",
   "metadata": {},
   "source": [
    "\n",
    "At test time, we would be scaling the output down by the dropout rate. Here we scale by 0.5 (because we were previous dropping half the \n",
    "units):"
   ]
  },
  {
   "cell_type": "code",
   "execution_count": null,
   "metadata": {},
   "outputs": [],
   "source": [
    "# At test time:\n",
    "layer_output *= 0.5"
   ]
  },
  {
   "cell_type": "markdown",
   "metadata": {},
   "source": [
    "\n",
    "Note that this process can be implemented by doing both operations at training time and leaving the output unchanged at test time, which is \n",
    "often the way it is implemented in practice:"
   ]
  },
  {
   "cell_type": "code",
   "execution_count": null,
   "metadata": {},
   "outputs": [],
   "source": [
    "# At training time:\n",
    "layer_output *= np.randint(0, high=2, size=layer_output.shape)\n",
    "# Note that we are scaling *up* rather scaling *down* in this case\n",
    "layer_output /= 0.5"
   ]
  },
  {
   "cell_type": "markdown",
   "metadata": {},
   "source": [
    "\n",
    "This technique may seem strange and arbitrary. Why would this help reduce overfitting? Geoff Hinton has said that he was inspired, among \n",
    "other things, by a fraud prevention mechanism used by banks -- in his own words: _\"I went to my bank. The tellers kept changing and I asked \n",
    "one of them why. He said he didn’t know but they got moved around a lot. I figured it must be because it would require cooperation \n",
    "between employees to successfully defraud the bank. This made me realize that randomly removing a different subset of neurons on each \n",
    "example would prevent conspiracies and thus reduce overfitting\"_.\n",
    "\n",
    "The core idea is that introducing noise in the output values of a layer can break up happenstance patterns that are not significant (what \n",
    "Hinton refers to as \"conspiracies\"), which the network would start memorizing if no noise was present. \n",
    "\n",
    "In Keras you can introduce dropout in a network via the `Dropout` layer, which gets applied to the output of layer right before it, e.g.:"
   ]
  },
  {
   "cell_type": "code",
   "execution_count": null,
   "metadata": {},
   "outputs": [],
   "source": [
    "model.add(layers.Dropout(0.5))"
   ]
  },
  {
   "cell_type": "markdown",
   "metadata": {},
   "source": [
    "Let's add two `Dropout` layers in our IMDB network to see how well they do at reducing overfitting:"
   ]
  },
  {
   "cell_type": "code",
   "execution_count": null,
   "metadata": {},
   "outputs": [],
   "source": [
    "dpt_model = models.Sequential()\n",
    "dpt_model.add(layers.Dense(16, activation='relu', input_shape=(10000,)))\n",
    "dpt_model.add(layers.Dropout(0.5))\n",
    "dpt_model.add(layers.Dense(16, activation='relu'))\n",
    "dpt_model.add(layers.Dropout(0.5))\n",
    "dpt_model.add(layers.Dense(1, activation='sigmoid'))\n",
    "\n",
    "dpt_model.compile(optimizer='rmsprop',\n",
    "                  loss='binary_crossentropy',\n",
    "                  metrics=['acc'])"
   ]
  },
  {
   "cell_type": "code",
   "execution_count": null,
   "metadata": {},
   "outputs": [],
   "source": [
    "dpt_model_hist = dpt_model.fit(x_train, y_train,\n",
    "                               epochs=20,\n",
    "                               batch_size=512,\n",
    "                               validation_data=(x_test, y_test))"
   ]
  },
  {
   "cell_type": "markdown",
   "metadata": {},
   "source": [
    "Let's plot the results:"
   ]
  },
  {
   "cell_type": "code",
   "execution_count": null,
   "metadata": {},
   "outputs": [],
   "source": [
    "dpt_model_val_loss = dpt_model_hist.history['val_loss']\n",
    "\n",
    "plt.plot(epochs, original_val_loss, 'b+', label='Original model')\n",
    "plt.plot(epochs, dpt_model_val_loss, 'bo', label='Dropout-regularized model')\n",
    "plt.xlabel('Epochs')\n",
    "plt.ylabel('Validation loss')\n",
    "plt.legend()\n",
    "\n",
    "plt.show()"
   ]
  },
  {
   "cell_type": "markdown",
   "metadata": {},
   "source": [
    "\n",
    "Again, a clear improvement over the reference network.\n",
    "\n",
    "To recap: here the most common ways to prevent overfitting in neural networks:\n",
    "\n",
    "* Getting more training data.\n",
    "* Reducing the capacity of the network.\n",
    "* Adding weight regularization.\n",
    "* Adding dropout."
   ]
  }
 ],
 "metadata": {
  "kernelspec": {
   "display_name": "Python 3",
   "language": "python",
   "name": "python3"
  },
  "language_info": {
   "codemirror_mode": {
    "name": "ipython",
    "version": 3
   },
   "file_extension": ".py",
   "mimetype": "text/x-python",
   "name": "python",
   "nbconvert_exporter": "python",
   "pygments_lexer": "ipython3",
   "version": "3.6.8"
  }
 },
 "nbformat": 4,
 "nbformat_minor": 2
}
